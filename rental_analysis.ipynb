{
 "cells": [
  {
   "cell_type": "markdown",
   "metadata": {},
   "source": [
    "# Toronto Dwellings Analysis\n",
    "\n",
    "In this assignment, you will perform fundamental analysis for the Toronto dwellings market to allow potential real estate investors to choose rental investment properties."
   ]
  },
  {
   "cell_type": "code",
   "execution_count": 32,
   "metadata": {},
   "outputs": [],
   "source": [
    "# imports\n",
    "import panel as pn\n",
    "pn.extension('plotly')\n",
    "import plotly.express as px\n",
    "import pandas as pd\n",
    "import hvplot.pandas\n",
    "import matplotlib.pyplot as plt\n",
    "import os\n",
    "from pathlib import Path\n",
    "from dotenv import load_dotenv"
   ]
  },
  {
   "cell_type": "code",
   "execution_count": 33,
   "metadata": {},
   "outputs": [],
   "source": [
    "# Read the Mapbox API key\n",
    "load_dotenv()\n",
    "map_box_api = os.getenv(\"mapbox\")"
   ]
  },
  {
   "cell_type": "markdown",
   "metadata": {},
   "source": [
    "## Load Data"
   ]
  },
  {
   "cell_type": "code",
   "execution_count": 36,
   "metadata": {},
   "outputs": [
    {
     "data": {
      "text/html": [
       "<div>\n",
       "<style scoped>\n",
       "    .dataframe tbody tr th:only-of-type {\n",
       "        vertical-align: middle;\n",
       "    }\n",
       "\n",
       "    .dataframe tbody tr th {\n",
       "        vertical-align: top;\n",
       "    }\n",
       "\n",
       "    .dataframe thead th {\n",
       "        text-align: right;\n",
       "    }\n",
       "</style>\n",
       "<table border=\"1\" class=\"dataframe\">\n",
       "  <thead>\n",
       "    <tr style=\"text-align: right;\">\n",
       "      <th></th>\n",
       "      <th>neighbourhood</th>\n",
       "      <th>single_detached_house</th>\n",
       "      <th>apartment_five_storeys_plus</th>\n",
       "      <th>movable_dwelling</th>\n",
       "      <th>semi_detached_house</th>\n",
       "      <th>row_house</th>\n",
       "      <th>duplex</th>\n",
       "      <th>apartment_five_storeys_less</th>\n",
       "      <th>other_house</th>\n",
       "      <th>average_house_value</th>\n",
       "      <th>shelter_costs_owned</th>\n",
       "      <th>shelter_costs_rented</th>\n",
       "    </tr>\n",
       "    <tr>\n",
       "      <th>year</th>\n",
       "      <th></th>\n",
       "      <th></th>\n",
       "      <th></th>\n",
       "      <th></th>\n",
       "      <th></th>\n",
       "      <th></th>\n",
       "      <th></th>\n",
       "      <th></th>\n",
       "      <th></th>\n",
       "      <th></th>\n",
       "      <th></th>\n",
       "      <th></th>\n",
       "    </tr>\n",
       "  </thead>\n",
       "  <tbody>\n",
       "    <tr>\n",
       "      <th>2001</th>\n",
       "      <td>Agincourt North</td>\n",
       "      <td>3715</td>\n",
       "      <td>1480</td>\n",
       "      <td>0</td>\n",
       "      <td>1055</td>\n",
       "      <td>1295</td>\n",
       "      <td>195</td>\n",
       "      <td>185</td>\n",
       "      <td>5</td>\n",
       "      <td>200388</td>\n",
       "      <td>810</td>\n",
       "      <td>870</td>\n",
       "    </tr>\n",
       "    <tr>\n",
       "      <th>2001</th>\n",
       "      <td>Agincourt South-Malvern West</td>\n",
       "      <td>3250</td>\n",
       "      <td>1835</td>\n",
       "      <td>0</td>\n",
       "      <td>545</td>\n",
       "      <td>455</td>\n",
       "      <td>105</td>\n",
       "      <td>425</td>\n",
       "      <td>0</td>\n",
       "      <td>203047</td>\n",
       "      <td>806</td>\n",
       "      <td>892</td>\n",
       "    </tr>\n",
       "    <tr>\n",
       "      <th>2001</th>\n",
       "      <td>Alderwood</td>\n",
       "      <td>3175</td>\n",
       "      <td>315</td>\n",
       "      <td>0</td>\n",
       "      <td>470</td>\n",
       "      <td>50</td>\n",
       "      <td>185</td>\n",
       "      <td>370</td>\n",
       "      <td>0</td>\n",
       "      <td>259998</td>\n",
       "      <td>817</td>\n",
       "      <td>924</td>\n",
       "    </tr>\n",
       "    <tr>\n",
       "      <th>2001</th>\n",
       "      <td>Annex</td>\n",
       "      <td>1060</td>\n",
       "      <td>6090</td>\n",
       "      <td>5</td>\n",
       "      <td>1980</td>\n",
       "      <td>605</td>\n",
       "      <td>275</td>\n",
       "      <td>3710</td>\n",
       "      <td>165</td>\n",
       "      <td>453850</td>\n",
       "      <td>1027</td>\n",
       "      <td>1378</td>\n",
       "    </tr>\n",
       "    <tr>\n",
       "      <th>2001</th>\n",
       "      <td>Banbury-Don Mills</td>\n",
       "      <td>3615</td>\n",
       "      <td>4465</td>\n",
       "      <td>0</td>\n",
       "      <td>240</td>\n",
       "      <td>380</td>\n",
       "      <td>15</td>\n",
       "      <td>1360</td>\n",
       "      <td>0</td>\n",
       "      <td>371864</td>\n",
       "      <td>1007</td>\n",
       "      <td>1163</td>\n",
       "    </tr>\n",
       "  </tbody>\n",
       "</table>\n",
       "</div>"
      ],
      "text/plain": [
       "                     neighbourhood  single_detached_house  \\\n",
       "year                                                        \n",
       "2001               Agincourt North                   3715   \n",
       "2001  Agincourt South-Malvern West                   3250   \n",
       "2001                     Alderwood                   3175   \n",
       "2001                         Annex                   1060   \n",
       "2001             Banbury-Don Mills                   3615   \n",
       "\n",
       "      apartment_five_storeys_plus  movable_dwelling  semi_detached_house  \\\n",
       "year                                                                       \n",
       "2001                         1480                 0                 1055   \n",
       "2001                         1835                 0                  545   \n",
       "2001                          315                 0                  470   \n",
       "2001                         6090                 5                 1980   \n",
       "2001                         4465                 0                  240   \n",
       "\n",
       "      row_house  duplex  apartment_five_storeys_less  other_house  \\\n",
       "year                                                                \n",
       "2001       1295     195                          185            5   \n",
       "2001        455     105                          425            0   \n",
       "2001         50     185                          370            0   \n",
       "2001        605     275                         3710          165   \n",
       "2001        380      15                         1360            0   \n",
       "\n",
       "      average_house_value  shelter_costs_owned  shelter_costs_rented  \n",
       "year                                                                  \n",
       "2001               200388                  810                   870  \n",
       "2001               203047                  806                   892  \n",
       "2001               259998                  817                   924  \n",
       "2001               453850                 1027                  1378  \n",
       "2001               371864                 1007                  1163  "
      ]
     },
     "execution_count": 36,
     "metadata": {},
     "output_type": "execute_result"
    }
   ],
   "source": [
    "# Read the census data into a Pandas DataFrame sorted by year\n",
    "file_path = Path(\"Data/toronto_neighbourhoods_census_data.csv\")\n",
    "to_data = pd.read_csv(file_path, index_col=\"year\")\n",
    "# Display data below\n",
    "to_data.head()"
   ]
  },
  {
   "cell_type": "markdown",
   "metadata": {},
   "source": [
    "- - - "
   ]
  },
  {
   "cell_type": "markdown",
   "metadata": {},
   "source": [
    "## Dwelling Types Per Year\n",
    "\n",
    "In this section, you will calculate the number of dwelling types per year. Visualize the results using bar charts and the Pandas plot function. \n",
    "\n",
    "**Hint:** Use the Pandas `groupby` function.\n",
    "\n",
    "**Optional challenge:** Plot each bar chart in a different color."
   ]
  },
  {
   "cell_type": "code",
   "execution_count": 7,
   "metadata": {},
   "outputs": [
    {
     "data": {
      "text/html": [
       "<div>\n",
       "<style scoped>\n",
       "    .dataframe tbody tr th:only-of-type {\n",
       "        vertical-align: middle;\n",
       "    }\n",
       "\n",
       "    .dataframe tbody tr th {\n",
       "        vertical-align: top;\n",
       "    }\n",
       "\n",
       "    .dataframe thead th {\n",
       "        text-align: right;\n",
       "    }\n",
       "</style>\n",
       "<table border=\"1\" class=\"dataframe\">\n",
       "  <thead>\n",
       "    <tr style=\"text-align: right;\">\n",
       "      <th></th>\n",
       "      <th>single_detached_house</th>\n",
       "      <th>apartment_five_storeys_plus</th>\n",
       "      <th>movable_dwelling</th>\n",
       "      <th>semi_detached_house</th>\n",
       "      <th>row_house</th>\n",
       "      <th>duplex</th>\n",
       "      <th>apartment_five_storeys_less</th>\n",
       "      <th>other_house</th>\n",
       "    </tr>\n",
       "    <tr>\n",
       "      <th>year</th>\n",
       "      <th></th>\n",
       "      <th></th>\n",
       "      <th></th>\n",
       "      <th></th>\n",
       "      <th></th>\n",
       "      <th></th>\n",
       "      <th></th>\n",
       "      <th></th>\n",
       "    </tr>\n",
       "  </thead>\n",
       "  <tbody>\n",
       "    <tr>\n",
       "      <th>2001</th>\n",
       "      <td>300930</td>\n",
       "      <td>355015</td>\n",
       "      <td>75</td>\n",
       "      <td>90995</td>\n",
       "      <td>52355</td>\n",
       "      <td>23785</td>\n",
       "      <td>116900</td>\n",
       "      <td>3040</td>\n",
       "    </tr>\n",
       "    <tr>\n",
       "      <th>2006</th>\n",
       "      <td>266860</td>\n",
       "      <td>379400</td>\n",
       "      <td>165</td>\n",
       "      <td>69430</td>\n",
       "      <td>54690</td>\n",
       "      <td>44095</td>\n",
       "      <td>162850</td>\n",
       "      <td>1335</td>\n",
       "    </tr>\n",
       "    <tr>\n",
       "      <th>2011</th>\n",
       "      <td>274940</td>\n",
       "      <td>429220</td>\n",
       "      <td>100</td>\n",
       "      <td>72480</td>\n",
       "      <td>60355</td>\n",
       "      <td>44750</td>\n",
       "      <td>163895</td>\n",
       "      <td>2165</td>\n",
       "    </tr>\n",
       "    <tr>\n",
       "      <th>2016</th>\n",
       "      <td>269680</td>\n",
       "      <td>493270</td>\n",
       "      <td>95</td>\n",
       "      <td>71200</td>\n",
       "      <td>61565</td>\n",
       "      <td>48585</td>\n",
       "      <td>165575</td>\n",
       "      <td>2845</td>\n",
       "    </tr>\n",
       "  </tbody>\n",
       "</table>\n",
       "</div>"
      ],
      "text/plain": [
       "      single_detached_house  apartment_five_storeys_plus  movable_dwelling  \\\n",
       "year                                                                         \n",
       "2001                 300930                       355015                75   \n",
       "2006                 266860                       379400               165   \n",
       "2011                 274940                       429220               100   \n",
       "2016                 269680                       493270                95   \n",
       "\n",
       "      semi_detached_house  row_house  duplex  apartment_five_storeys_less  \\\n",
       "year                                                                        \n",
       "2001                90995      52355   23785                       116900   \n",
       "2006                69430      54690   44095                       162850   \n",
       "2011                72480      60355   44750                       163895   \n",
       "2016                71200      61565   48585                       165575   \n",
       "\n",
       "      other_house  \n",
       "year               \n",
       "2001         3040  \n",
       "2006         1335  \n",
       "2011         2165  \n",
       "2016         2845  "
      ]
     },
     "execution_count": 7,
     "metadata": {},
     "output_type": "execute_result"
    }
   ],
   "source": [
    "# Creating all inclusive list with all the dwelling types to calculate total number\n",
    "dwelling_types = [\n",
    "    \"single_detached_house\",\n",
    "    \"apartment_five_storeys_plus\",\n",
    "    \"movable_dwelling\",\n",
    "    \"semi_detached_house\",\n",
    "    \"row_house\",\n",
    "    \"duplex\",\n",
    "    \"apartment_five_storeys_less\",\n",
    "    \"other_house\"\n",
    "]\n",
    "\n",
    "# Calculate the sum number of dwelling types units per year \n",
    "df_dwelling_units = to_data[dwelling_types].groupby(to_data.index).sum()\n",
    "df_dwelling_units"
   ]
  },
  {
   "cell_type": "code",
   "execution_count": 8,
   "metadata": {},
   "outputs": [],
   "source": [
    "# Save the dataframe as a csv file\n",
    "df_dwelling_units.to_csv(\"Data/dwellings_per_year.csv\")"
   ]
  },
  {
   "cell_type": "code",
   "execution_count": 9,
   "metadata": {},
   "outputs": [],
   "source": [
    "# Helper create_bar_chart function\n",
    "def create_bar_chart(data, title, xlabel, ylabel, color):\n",
    "    \"\"\"\n",
    "    Create a barplot based in the data argument.\n",
    "    \"\"\"\n",
    "\n",
    "    fig = plt.figure()\n",
    "    bar_chart = data.plot.bar(color=color)\n",
    "    bar_chart.set_xlabel(xlabel, fontsize=12)\n",
    "    bar_chart.set_ylabel(ylabel, fontsize=12)\n",
    "    bar_chart.set_title(title, fontsize=14, fontweight=\"bold\")    \n",
    "    plt.show()\n",
    "    plt.close(fig)"
   ]
  },
  {
   "cell_type": "code",
   "execution_count": 14,
   "metadata": {},
   "outputs": [
    {
     "data": {
      "image/png": "[encoded data removed]",
      "text/plain": [
       "<Figure size 432x288 with 1 Axes>"
      ]
     },
     "metadata": {
      "needs_background": "light"
     },
     "output_type": "display_data"
    },
    {
     "data": {
      "image/png": "[encoded data removed]",
      "text/plain": [
       "<Figure size 432x288 with 1 Axes>"
      ]
     },
     "metadata": {
      "needs_background": "light"
     },
     "output_type": "display_data"
    },
    {
     "data": {
      "image/png": "[encoded data removed]",
      "text/plain": [
       "<Figure size 432x288 with 1 Axes>"
      ]
     },
     "metadata": {
      "needs_background": "light"
     },
     "output_type": "display_data"
    },
    {
     "data": {
      "image/png": "[encoded data removed]",
      "text/plain": [
       "<Figure size 432x288 with 1 Axes>"
      ]
     },
     "metadata": {
      "needs_background": "light"
     },
     "output_type": "display_data"
    }
   ],
   "source": [
    "# Create a bar chart per year to show the number of dwelling types\n",
    "\n",
    "# Bar chart for 2001\n",
    "create_bar_chart(df_dwelling_units.loc[2001], \"Dwelling Types in Toronto in 2001\", \"2001\", \"Dwelling Type Units\", \"pink\")\n",
    "\n",
    "# Bar chart for 2006\n",
    "create_bar_chart(df_dwelling_units.loc[2006], \"Dwelling Types in Toronto in 2006\", \"2006\", \"Dwelling Type Units\", \"green\")\n",
    "\n",
    "# Bar chart for 2011\n",
    "create_bar_chart(df_dwelling_units.loc[2011], \"Dwelling Types in Toronto in 2011\", \"2011\", \"Dwelling Type Units\", \"red\")\n",
    "\n",
    "# Bar chart for 2016\n",
    "create_bar_chart(df_dwelling_units.loc[2016], \"Dwelling Types in Toronto in 2016\", \"2016\", \"Dwelling Type Units\", \"purple\")"
   ]
  },
  {
   "cell_type": "markdown",
   "metadata": {},
   "source": [
    "- - - "
   ]
  },
  {
   "cell_type": "markdown",
   "metadata": {},
   "source": [
    "## Average Monthly Shelter Costs in Toronto Per Year\n",
    "\n",
    "In this section, you will calculate the average monthly shelter costs for owned and rented dwellings and the average house value for each year. Plot the results as a line chart.\n",
    "\n",
    "**Optional challenge:** Plot each line chart in a different color."
   ]
  },
  {
   "cell_type": "code",
   "execution_count": 15,
   "metadata": {},
   "outputs": [
    {
     "data": {
      "text/html": [
       "<div>\n",
       "<style scoped>\n",
       "    .dataframe tbody tr th:only-of-type {\n",
       "        vertical-align: middle;\n",
       "    }\n",
       "\n",
       "    .dataframe tbody tr th {\n",
       "        vertical-align: top;\n",
       "    }\n",
       "\n",
       "    .dataframe thead th {\n",
       "        text-align: right;\n",
       "    }\n",
       "</style>\n",
       "<table border=\"1\" class=\"dataframe\">\n",
       "  <thead>\n",
       "    <tr style=\"text-align: right;\">\n",
       "      <th></th>\n",
       "      <th>shelter_costs_owned</th>\n",
       "      <th>shelter_costs_rented</th>\n",
       "    </tr>\n",
       "    <tr>\n",
       "      <th>year</th>\n",
       "      <th></th>\n",
       "      <th></th>\n",
       "    </tr>\n",
       "  </thead>\n",
       "  <tbody>\n",
       "    <tr>\n",
       "      <th>2001</th>\n",
       "      <td>846.878571</td>\n",
       "      <td>1085.935714</td>\n",
       "    </tr>\n",
       "    <tr>\n",
       "      <th>2006</th>\n",
       "      <td>1316.800000</td>\n",
       "      <td>925.414286</td>\n",
       "    </tr>\n",
       "    <tr>\n",
       "      <th>2011</th>\n",
       "      <td>1448.214286</td>\n",
       "      <td>1019.792857</td>\n",
       "    </tr>\n",
       "    <tr>\n",
       "      <th>2016</th>\n",
       "      <td>1761.314286</td>\n",
       "      <td>1256.321429</td>\n",
       "    </tr>\n",
       "  </tbody>\n",
       "</table>\n",
       "</div>"
      ],
      "text/plain": [
       "      shelter_costs_owned  shelter_costs_rented\n",
       "year                                           \n",
       "2001           846.878571           1085.935714\n",
       "2006          1316.800000            925.414286\n",
       "2011          1448.214286           1019.792857\n",
       "2016          1761.314286           1256.321429"
      ]
     },
     "execution_count": 15,
     "metadata": {},
     "output_type": "execute_result"
    }
   ],
   "source": [
    "# Calculate the average monthly shelter costs for owned and rented dwellings\n",
    "df_avg_costs = (\n",
    "    to_data[[\"shelter_costs_owned\", \"shelter_costs_rented\"]]\n",
    "    .groupby([to_data.index])\n",
    "    .mean()\n",
    ")\n",
    "df_avg_costs"
   ]
  },
  {
   "cell_type": "code",
   "execution_count": 16,
   "metadata": {},
   "outputs": [],
   "source": [
    "# Helper create_line_chart function\n",
    "def create_line_chart(data, title, xlabel, ylabel, color):\n",
    "    \"\"\"\n",
    "    Create a line chart based in the data argument.\n",
    "    \"\"\"\n",
    "        \n",
    "    fig = plt.figure()\n",
    "    bar_chart = data.plot(color=color)\n",
    "    bar_chart.set_xlabel(xlabel, fontsize=12)\n",
    "    bar_chart.set_ylabel(ylabel, fontsize=12)\n",
    "    bar_chart.set_title(title, fontsize=14, fontweight=\"bold\")    \n",
    "    plt.show()\n",
    "    plt.close(fig)"
   ]
  },
  {
   "cell_type": "code",
   "execution_count": 18,
   "metadata": {},
   "outputs": [
    {
     "data": {
      "image/png": "[encoded data removed]",
      "text/plain": [
       "<Figure size 432x288 with 1 Axes>"
      ]
     },
     "metadata": {
      "needs_background": "light"
     },
     "output_type": "display_data"
    },
    {
     "data": {
      "image/png": "[encoded data removed]",
      "text/plain": [
       "<Figure size 432x288 with 1 Axes>"
      ]
     },
     "metadata": {
      "needs_background": "light"
     },
     "output_type": "display_data"
    }
   ],
   "source": [
    "# Create two line charts, one to plot the monthly shelter costs for owned dwelleing and other for rented dwellings per year\n",
    "\n",
    "# Line chart for owned dwellings\n",
    "create_line_chart(df_avg_costs[\"shelter_costs_owned\"], \"Average Monthly Shelter Cost for Owned Dwellings in Toronto\", \"Year\", \"Avg Monthly Shelter Costs\", \"red\")\n",
    "\n",
    "# Line chart for rented dwellings\n",
    "create_line_chart(df_avg_costs[\"shelter_costs_rented\"], \"Average Monthly Shelter Cost for Rented Dwellings in Toronto\", \"Year\", \"Avg Monthly Shelter Costs\", \"blue\")"
   ]
  },
  {
   "cell_type": "markdown",
   "metadata": {},
   "source": [
    "## Average House Value per Year\n",
    "\n",
    "In this section, you want to determine the average house value per year. An investor may want to understand better the sales price of the rental property over time. For example, a customer will want to know if they should expect an increase or decrease in the property value over time so they can determine how long to hold the rental property. You will visualize the `average_house_value` per year as a bar chart."
   ]
  },
  {
   "cell_type": "code",
   "execution_count": 19,
   "metadata": {},
   "outputs": [
    {
     "data": {
      "text/plain": [
       "year\n",
       "2001    289882.885714\n",
       "2006    424059.664286\n",
       "2011    530424.721429\n",
       "2016    664068.328571\n",
       "Name: average_house_value, dtype: float64"
      ]
     },
     "execution_count": 19,
     "metadata": {},
     "output_type": "execute_result"
    }
   ],
   "source": [
    "# Calculate the average house value per year\n",
    "df_avg_value = (\n",
    "    to_data[\"average_house_value\"]\n",
    "    .groupby([to_data.index])\n",
    "    .mean()\n",
    ")\n",
    "df_avg_value"
   ]
  },
  {
   "cell_type": "code",
   "execution_count": 20,
   "metadata": {},
   "outputs": [
    {
     "data": {
      "image/png": "[encoded data removed]",
      "text/plain": [
       "<Figure size 432x288 with 1 Axes>"
      ]
     },
     "metadata": {
      "needs_background": "light"
     },
     "output_type": "display_data"
    }
   ],
   "source": [
    "# Plot the average house value per year as a line chart\n",
    "fig_avg_sale_price = plt.figure()\n",
    "plot_avg_sale_price = df_avg_value.plot()\n",
    "plot_avg_sale_price.set_xlabel(\"Year\", fontsize=12)\n",
    "plot_avg_sale_price.set_ylabel(\"Avg. House Value\", fontsize=12)\n",
    "plot_avg_sale_price.set_title(\n",
    "    \"Average House Value in Toronto\",\n",
    "    fontsize=14,\n",
    "    fontweight=\"bold\",\n",
    ")\n",
    "plt.show()\n",
    "plt.close(fig_avg_sale_price)"
   ]
  },
  {
   "cell_type": "markdown",
   "metadata": {},
   "source": [
    "- - - "
   ]
  },
  {
   "cell_type": "markdown",
   "metadata": {},
   "source": [
    "## Average House Value by Neighbourhood\n",
    "\n",
    "In this section, you will use `hvplot` to create an interactive visualization of the average house value with a dropdown selector for the neighbourhood.\n",
    "\n",
    "**Hint:** It will be easier to create a new DataFrame from grouping the data and calculating the mean house values for each year and neighbourhood."
   ]
  },
  {
   "cell_type": "code",
   "execution_count": 21,
   "metadata": {},
   "outputs": [
    {
     "data": {
      "text/html": [
       "<div>\n",
       "<style scoped>\n",
       "    .dataframe tbody tr th:only-of-type {\n",
       "        vertical-align: middle;\n",
       "    }\n",
       "\n",
       "    .dataframe tbody tr th {\n",
       "        vertical-align: top;\n",
       "    }\n",
       "\n",
       "    .dataframe thead th {\n",
       "        text-align: right;\n",
       "    }\n",
       "</style>\n",
       "<table border=\"1\" class=\"dataframe\">\n",
       "  <thead>\n",
       "    <tr style=\"text-align: right;\">\n",
       "      <th></th>\n",
       "      <th>year</th>\n",
       "      <th>neighbourhood</th>\n",
       "      <th>average_house_value</th>\n",
       "    </tr>\n",
       "  </thead>\n",
       "  <tbody>\n",
       "    <tr>\n",
       "      <th>0</th>\n",
       "      <td>2001</td>\n",
       "      <td>Agincourt North</td>\n",
       "      <td>200388</td>\n",
       "    </tr>\n",
       "    <tr>\n",
       "      <th>1</th>\n",
       "      <td>2001</td>\n",
       "      <td>Agincourt South-Malvern West</td>\n",
       "      <td>203047</td>\n",
       "    </tr>\n",
       "    <tr>\n",
       "      <th>2</th>\n",
       "      <td>2001</td>\n",
       "      <td>Alderwood</td>\n",
       "      <td>259998</td>\n",
       "    </tr>\n",
       "    <tr>\n",
       "      <th>3</th>\n",
       "      <td>2001</td>\n",
       "      <td>Annex</td>\n",
       "      <td>453850</td>\n",
       "    </tr>\n",
       "    <tr>\n",
       "      <th>4</th>\n",
       "      <td>2001</td>\n",
       "      <td>Banbury-Don Mills</td>\n",
       "      <td>371864</td>\n",
       "    </tr>\n",
       "    <tr>\n",
       "      <th>5</th>\n",
       "      <td>2001</td>\n",
       "      <td>Bathurst Manor</td>\n",
       "      <td>304749</td>\n",
       "    </tr>\n",
       "    <tr>\n",
       "      <th>6</th>\n",
       "      <td>2001</td>\n",
       "      <td>Bay Street Corridor</td>\n",
       "      <td>257404</td>\n",
       "    </tr>\n",
       "    <tr>\n",
       "      <th>7</th>\n",
       "      <td>2001</td>\n",
       "      <td>Bayview Village</td>\n",
       "      <td>327644</td>\n",
       "    </tr>\n",
       "    <tr>\n",
       "      <th>8</th>\n",
       "      <td>2001</td>\n",
       "      <td>Bayview Woods-Steeles</td>\n",
       "      <td>343535</td>\n",
       "    </tr>\n",
       "    <tr>\n",
       "      <th>9</th>\n",
       "      <td>2001</td>\n",
       "      <td>Bedford Park-Nortown</td>\n",
       "      <td>565304</td>\n",
       "    </tr>\n",
       "  </tbody>\n",
       "</table>\n",
       "</div>"
      ],
      "text/plain": [
       "   year                 neighbourhood  average_house_value\n",
       "0  2001               Agincourt North               200388\n",
       "1  2001  Agincourt South-Malvern West               203047\n",
       "2  2001                     Alderwood               259998\n",
       "3  2001                         Annex               453850\n",
       "4  2001             Banbury-Don Mills               371864\n",
       "5  2001                Bathurst Manor               304749\n",
       "6  2001           Bay Street Corridor               257404\n",
       "7  2001               Bayview Village               327644\n",
       "8  2001         Bayview Woods-Steeles               343535\n",
       "9  2001          Bedford Park-Nortown               565304"
      ]
     },
     "execution_count": 21,
     "metadata": {},
     "output_type": "execute_result"
    }
   ],
   "source": [
    "# Create a new DataFrame with the mean house values by neighbourhood per year\n",
    "df_average_value = to_data[[\"neighbourhood\", \"average_house_value\"]]\n",
    "df_average_value = df_average_value.reset_index()\n",
    "df_average_value.head(10)"
   ]
  },
  {
   "cell_type": "code",
   "execution_count": 22,
   "metadata": {},
   "outputs": [
    {
     "ename": "ModuleNotFoundError",
     "evalue": "No module named 'jupyter_bokeh'",
     "output_type": "error",
     "traceback": [
      "\u001b[1;31m---------------------------------------------------------------------------\u001b[0m",
      "\u001b[1;31mModuleNotFoundError\u001b[0m                       Traceback (most recent call last)",
      "\u001b[1;32m~\\anaconda3\\envs\\pyvizenv\\lib\\site-packages\\IPython\\core\\formatters.py\u001b[0m in \u001b[0;36m__call__\u001b[1;34m(self, obj, include, exclude)\u001b[0m\n\u001b[0;32m    968\u001b[0m \u001b[1;33m\u001b[0m\u001b[0m\n\u001b[0;32m    969\u001b[0m             \u001b[1;32mif\u001b[0m \u001b[0mmethod\u001b[0m \u001b[1;32mis\u001b[0m \u001b[1;32mnot\u001b[0m \u001b[1;32mNone\u001b[0m\u001b[1;33m:\u001b[0m\u001b[1;33m\u001b[0m\u001b[1;33m\u001b[0m\u001b[0m\n\u001b[1;32m--> 970\u001b[1;33m                 \u001b[1;32mreturn\u001b[0m \u001b[0mmethod\u001b[0m\u001b[1;33m(\u001b[0m\u001b[0minclude\u001b[0m\u001b[1;33m=\u001b[0m\u001b[0minclude\u001b[0m\u001b[1;33m,\u001b[0m \u001b[0mexclude\u001b[0m\u001b[1;33m=\u001b[0m\u001b[0mexclude\u001b[0m\u001b[1;33m)\u001b[0m\u001b[1;33m\u001b[0m\u001b[1;33m\u001b[0m\u001b[0m\n\u001b[0m\u001b[0;32m    971\u001b[0m             \u001b[1;32mreturn\u001b[0m \u001b[1;32mNone\u001b[0m\u001b[1;33m\u001b[0m\u001b[1;33m\u001b[0m\u001b[0m\n\u001b[0;32m    972\u001b[0m         \u001b[1;32melse\u001b[0m\u001b[1;33m:\u001b[0m\u001b[1;33m\u001b[0m\u001b[1;33m\u001b[0m\u001b[0m\n",
      "\u001b[1;32m~\\anaconda3\\envs\\pyvizenv\\lib\\site-packages\\holoviews\\core\\dimension.py\u001b[0m in \u001b[0;36m_repr_mimebundle_\u001b[1;34m(self, include, exclude)\u001b[0m\n\u001b[0;32m   1314\u001b[0m         \u001b[0mcombined\u001b[0m \u001b[1;32mand\u001b[0m \u001b[0mreturned\u001b[0m\u001b[1;33m.\u001b[0m\u001b[1;33m\u001b[0m\u001b[1;33m\u001b[0m\u001b[0m\n\u001b[0;32m   1315\u001b[0m         \"\"\"\n\u001b[1;32m-> 1316\u001b[1;33m         \u001b[1;32mreturn\u001b[0m \u001b[0mStore\u001b[0m\u001b[1;33m.\u001b[0m\u001b[0mrender\u001b[0m\u001b[1;33m(\u001b[0m\u001b[0mself\u001b[0m\u001b[1;33m)\u001b[0m\u001b[1;33m\u001b[0m\u001b[1;33m\u001b[0m\u001b[0m\n\u001b[0m\u001b[0;32m   1317\u001b[0m \u001b[1;33m\u001b[0m\u001b[0m\n\u001b[0;32m   1318\u001b[0m \u001b[1;33m\u001b[0m\u001b[0m\n",
      "\u001b[1;32m~\\anaconda3\\envs\\pyvizenv\\lib\\site-packages\\holoviews\\core\\options.py\u001b[0m in \u001b[0;36mrender\u001b[1;34m(cls, obj)\u001b[0m\n\u001b[0;32m   1403\u001b[0m         \u001b[0mdata\u001b[0m\u001b[1;33m,\u001b[0m \u001b[0mmetadata\u001b[0m \u001b[1;33m=\u001b[0m \u001b[1;33m{\u001b[0m\u001b[1;33m}\u001b[0m\u001b[1;33m,\u001b[0m \u001b[1;33m{\u001b[0m\u001b[1;33m}\u001b[0m\u001b[1;33m\u001b[0m\u001b[1;33m\u001b[0m\u001b[0m\n\u001b[0;32m   1404\u001b[0m         \u001b[1;32mfor\u001b[0m \u001b[0mhook\u001b[0m \u001b[1;32min\u001b[0m \u001b[0mhooks\u001b[0m\u001b[1;33m:\u001b[0m\u001b[1;33m\u001b[0m\u001b[1;33m\u001b[0m\u001b[0m\n\u001b[1;32m-> 1405\u001b[1;33m             \u001b[0mret\u001b[0m \u001b[1;33m=\u001b[0m \u001b[0mhook\u001b[0m\u001b[1;33m(\u001b[0m\u001b[0mobj\u001b[0m\u001b[1;33m)\u001b[0m\u001b[1;33m\u001b[0m\u001b[1;33m\u001b[0m\u001b[0m\n\u001b[0m\u001b[0;32m   1406\u001b[0m             \u001b[1;32mif\u001b[0m \u001b[0mret\u001b[0m \u001b[1;32mis\u001b[0m \u001b[1;32mNone\u001b[0m\u001b[1;33m:\u001b[0m\u001b[1;33m\u001b[0m\u001b[1;33m\u001b[0m\u001b[0m\n\u001b[0;32m   1407\u001b[0m                 \u001b[1;32mcontinue\u001b[0m\u001b[1;33m\u001b[0m\u001b[1;33m\u001b[0m\u001b[0m\n",
      "\u001b[1;32m~\\anaconda3\\envs\\pyvizenv\\lib\\site-packages\\holoviews\\ipython\\display_hooks.py\u001b[0m in \u001b[0;36mpprint_display\u001b[1;34m(obj)\u001b[0m\n\u001b[0;32m    280\u001b[0m     \u001b[1;32mif\u001b[0m \u001b[1;32mnot\u001b[0m \u001b[0mip\u001b[0m\u001b[1;33m.\u001b[0m\u001b[0mdisplay_formatter\u001b[0m\u001b[1;33m.\u001b[0m\u001b[0mformatters\u001b[0m\u001b[1;33m[\u001b[0m\u001b[1;34m'text/plain'\u001b[0m\u001b[1;33m]\u001b[0m\u001b[1;33m.\u001b[0m\u001b[0mpprint\u001b[0m\u001b[1;33m:\u001b[0m\u001b[1;33m\u001b[0m\u001b[1;33m\u001b[0m\u001b[0m\n\u001b[0;32m    281\u001b[0m         \u001b[1;32mreturn\u001b[0m \u001b[1;32mNone\u001b[0m\u001b[1;33m\u001b[0m\u001b[1;33m\u001b[0m\u001b[0m\n\u001b[1;32m--> 282\u001b[1;33m     \u001b[1;32mreturn\u001b[0m \u001b[0mdisplay\u001b[0m\u001b[1;33m(\u001b[0m\u001b[0mobj\u001b[0m\u001b[1;33m,\u001b[0m \u001b[0mraw_output\u001b[0m\u001b[1;33m=\u001b[0m\u001b[1;32mTrue\u001b[0m\u001b[1;33m)\u001b[0m\u001b[1;33m\u001b[0m\u001b[1;33m\u001b[0m\u001b[0m\n\u001b[0m\u001b[0;32m    283\u001b[0m \u001b[1;33m\u001b[0m\u001b[0m\n\u001b[0;32m    284\u001b[0m \u001b[1;33m\u001b[0m\u001b[0m\n",
      "\u001b[1;32m~\\anaconda3\\envs\\pyvizenv\\lib\\site-packages\\holoviews\\ipython\\display_hooks.py\u001b[0m in \u001b[0;36mdisplay\u001b[1;34m(obj, raw_output, **kwargs)\u001b[0m\n\u001b[0;32m    256\u001b[0m     \u001b[1;32melif\u001b[0m \u001b[0misinstance\u001b[0m\u001b[1;33m(\u001b[0m\u001b[0mobj\u001b[0m\u001b[1;33m,\u001b[0m \u001b[1;33m(\u001b[0m\u001b[0mHoloMap\u001b[0m\u001b[1;33m,\u001b[0m \u001b[0mDynamicMap\u001b[0m\u001b[1;33m)\u001b[0m\u001b[1;33m)\u001b[0m\u001b[1;33m:\u001b[0m\u001b[1;33m\u001b[0m\u001b[1;33m\u001b[0m\u001b[0m\n\u001b[0;32m    257\u001b[0m         \u001b[1;32mwith\u001b[0m \u001b[0moption_state\u001b[0m\u001b[1;33m(\u001b[0m\u001b[0mobj\u001b[0m\u001b[1;33m)\u001b[0m\u001b[1;33m:\u001b[0m\u001b[1;33m\u001b[0m\u001b[1;33m\u001b[0m\u001b[0m\n\u001b[1;32m--> 258\u001b[1;33m             \u001b[0moutput\u001b[0m \u001b[1;33m=\u001b[0m \u001b[0mmap_display\u001b[0m\u001b[1;33m(\u001b[0m\u001b[0mobj\u001b[0m\u001b[1;33m)\u001b[0m\u001b[1;33m\u001b[0m\u001b[1;33m\u001b[0m\u001b[0m\n\u001b[0m\u001b[0;32m    259\u001b[0m     \u001b[1;32melif\u001b[0m \u001b[0misinstance\u001b[0m\u001b[1;33m(\u001b[0m\u001b[0mobj\u001b[0m\u001b[1;33m,\u001b[0m \u001b[0mPlot\u001b[0m\u001b[1;33m)\u001b[0m\u001b[1;33m:\u001b[0m\u001b[1;33m\u001b[0m\u001b[1;33m\u001b[0m\u001b[0m\n\u001b[0;32m    260\u001b[0m         \u001b[0moutput\u001b[0m \u001b[1;33m=\u001b[0m \u001b[0mrender\u001b[0m\u001b[1;33m(\u001b[0m\u001b[0mobj\u001b[0m\u001b[1;33m)\u001b[0m\u001b[1;33m\u001b[0m\u001b[1;33m\u001b[0m\u001b[0m\n",
      "\u001b[1;32m~\\anaconda3\\envs\\pyvizenv\\lib\\site-packages\\holoviews\\ipython\\display_hooks.py\u001b[0m in \u001b[0;36mwrapped\u001b[1;34m(element)\u001b[0m\n\u001b[0;32m    144\u001b[0m         \u001b[1;32mtry\u001b[0m\u001b[1;33m:\u001b[0m\u001b[1;33m\u001b[0m\u001b[1;33m\u001b[0m\u001b[0m\n\u001b[0;32m    145\u001b[0m             \u001b[0mmax_frames\u001b[0m \u001b[1;33m=\u001b[0m \u001b[0mOutputSettings\u001b[0m\u001b[1;33m.\u001b[0m\u001b[0moptions\u001b[0m\u001b[1;33m[\u001b[0m\u001b[1;34m'max_frames'\u001b[0m\u001b[1;33m]\u001b[0m\u001b[1;33m\u001b[0m\u001b[1;33m\u001b[0m\u001b[0m\n\u001b[1;32m--> 146\u001b[1;33m             \u001b[0mmimebundle\u001b[0m \u001b[1;33m=\u001b[0m \u001b[0mfn\u001b[0m\u001b[1;33m(\u001b[0m\u001b[0melement\u001b[0m\u001b[1;33m,\u001b[0m \u001b[0mmax_frames\u001b[0m\u001b[1;33m=\u001b[0m\u001b[0mmax_frames\u001b[0m\u001b[1;33m)\u001b[0m\u001b[1;33m\u001b[0m\u001b[1;33m\u001b[0m\u001b[0m\n\u001b[0m\u001b[0;32m    147\u001b[0m             \u001b[1;32mif\u001b[0m \u001b[0mmimebundle\u001b[0m \u001b[1;32mis\u001b[0m \u001b[1;32mNone\u001b[0m\u001b[1;33m:\u001b[0m\u001b[1;33m\u001b[0m\u001b[1;33m\u001b[0m\u001b[0m\n\u001b[0;32m    148\u001b[0m                 \u001b[1;32mreturn\u001b[0m \u001b[1;33m{\u001b[0m\u001b[1;33m}\u001b[0m\u001b[1;33m,\u001b[0m \u001b[1;33m{\u001b[0m\u001b[1;33m}\u001b[0m\u001b[1;33m\u001b[0m\u001b[1;33m\u001b[0m\u001b[0m\n",
      "\u001b[1;32m~\\anaconda3\\envs\\pyvizenv\\lib\\site-packages\\holoviews\\ipython\\display_hooks.py\u001b[0m in \u001b[0;36mmap_display\u001b[1;34m(vmap, max_frames)\u001b[0m\n\u001b[0;32m    204\u001b[0m         \u001b[1;32mreturn\u001b[0m \u001b[1;32mNone\u001b[0m\u001b[1;33m\u001b[0m\u001b[1;33m\u001b[0m\u001b[0m\n\u001b[0;32m    205\u001b[0m \u001b[1;33m\u001b[0m\u001b[0m\n\u001b[1;32m--> 206\u001b[1;33m     \u001b[1;32mreturn\u001b[0m \u001b[0mrender\u001b[0m\u001b[1;33m(\u001b[0m\u001b[0mvmap\u001b[0m\u001b[1;33m)\u001b[0m\u001b[1;33m\u001b[0m\u001b[1;33m\u001b[0m\u001b[0m\n\u001b[0m\u001b[0;32m    207\u001b[0m \u001b[1;33m\u001b[0m\u001b[0m\n\u001b[0;32m    208\u001b[0m \u001b[1;33m\u001b[0m\u001b[0m\n",
      "\u001b[1;32m~\\anaconda3\\envs\\pyvizenv\\lib\\site-packages\\holoviews\\ipython\\display_hooks.py\u001b[0m in \u001b[0;36mrender\u001b[1;34m(obj, **kwargs)\u001b[0m\n\u001b[0;32m     66\u001b[0m         \u001b[0mrenderer\u001b[0m \u001b[1;33m=\u001b[0m \u001b[0mrenderer\u001b[0m\u001b[1;33m.\u001b[0m\u001b[0minstance\u001b[0m\u001b[1;33m(\u001b[0m\u001b[0mfig\u001b[0m\u001b[1;33m=\u001b[0m\u001b[1;34m'png'\u001b[0m\u001b[1;33m)\u001b[0m\u001b[1;33m\u001b[0m\u001b[1;33m\u001b[0m\u001b[0m\n\u001b[0;32m     67\u001b[0m \u001b[1;33m\u001b[0m\u001b[0m\n\u001b[1;32m---> 68\u001b[1;33m     \u001b[1;32mreturn\u001b[0m \u001b[0mrenderer\u001b[0m\u001b[1;33m.\u001b[0m\u001b[0mcomponents\u001b[0m\u001b[1;33m(\u001b[0m\u001b[0mobj\u001b[0m\u001b[1;33m,\u001b[0m \u001b[1;33m**\u001b[0m\u001b[0mkwargs\u001b[0m\u001b[1;33m)\u001b[0m\u001b[1;33m\u001b[0m\u001b[1;33m\u001b[0m\u001b[0m\n\u001b[0m\u001b[0;32m     69\u001b[0m \u001b[1;33m\u001b[0m\u001b[0m\n\u001b[0;32m     70\u001b[0m \u001b[1;33m\u001b[0m\u001b[0m\n",
      "\u001b[1;32m~\\anaconda3\\envs\\pyvizenv\\lib\\site-packages\\holoviews\\plotting\\renderer.py\u001b[0m in \u001b[0;36mcomponents\u001b[1;34m(self, obj, fmt, comm, **kwargs)\u001b[0m\n\u001b[0;32m    426\u001b[0m \u001b[1;33m\u001b[0m\u001b[0m\n\u001b[0;32m    427\u001b[0m             \u001b[1;31m# Handle rendering object as ipywidget\u001b[0m\u001b[1;33m\u001b[0m\u001b[1;33m\u001b[0m\u001b[1;33m\u001b[0m\u001b[0m\n\u001b[1;32m--> 428\u001b[1;33m             \u001b[0mwidget\u001b[0m \u001b[1;33m=\u001b[0m \u001b[0mipywidget\u001b[0m\u001b[1;33m(\u001b[0m\u001b[0mplot\u001b[0m\u001b[1;33m,\u001b[0m \u001b[0mcombine_events\u001b[0m\u001b[1;33m=\u001b[0m\u001b[1;32mTrue\u001b[0m\u001b[1;33m)\u001b[0m\u001b[1;33m\u001b[0m\u001b[1;33m\u001b[0m\u001b[0m\n\u001b[0m\u001b[0;32m    429\u001b[0m             \u001b[1;32mif\u001b[0m \u001b[0mhasattr\u001b[0m\u001b[1;33m(\u001b[0m\u001b[0mwidget\u001b[0m\u001b[1;33m,\u001b[0m \u001b[1;34m'_repr_mimebundle_'\u001b[0m\u001b[1;33m)\u001b[0m\u001b[1;33m:\u001b[0m\u001b[1;33m\u001b[0m\u001b[1;33m\u001b[0m\u001b[0m\n\u001b[0;32m    430\u001b[0m                 \u001b[1;32mreturn\u001b[0m \u001b[0mwidget\u001b[0m\u001b[1;33m.\u001b[0m\u001b[0m_repr_mimebundle\u001b[0m\u001b[1;33m(\u001b[0m\u001b[1;33m)\u001b[0m\u001b[1;33m\u001b[0m\u001b[1;33m\u001b[0m\u001b[0m\n",
      "\u001b[1;32m~\\anaconda3\\envs\\pyvizenv\\lib\\site-packages\\panel\\io\\notebook.py\u001b[0m in \u001b[0;36mipywidget\u001b[1;34m(obj, **kwargs)\u001b[0m\n\u001b[0;32m    367\u001b[0m     \u001b[0mReturns\u001b[0m \u001b[0man\u001b[0m \u001b[0mipywidget\u001b[0m \u001b[0mmodel\u001b[0m \u001b[0mwhich\u001b[0m \u001b[0mrenders\u001b[0m \u001b[0mthe\u001b[0m \u001b[0mPanel\u001b[0m \u001b[0mobject\u001b[0m\u001b[1;33m.\u001b[0m\u001b[1;33m\u001b[0m\u001b[1;33m\u001b[0m\u001b[0m\n\u001b[0;32m    368\u001b[0m     \"\"\"\n\u001b[1;32m--> 369\u001b[1;33m     \u001b[1;32mfrom\u001b[0m \u001b[0mjupyter_bokeh\u001b[0m\u001b[1;33m.\u001b[0m\u001b[0mwidgets\u001b[0m   \u001b[1;32mimport\u001b[0m \u001b[0mBokehModel\u001b[0m\u001b[1;33m\u001b[0m\u001b[1;33m\u001b[0m\u001b[0m\n\u001b[0m\u001b[0;32m    370\u001b[0m     \u001b[1;32mfrom\u001b[0m \u001b[1;33m.\u001b[0m\u001b[1;33m.\u001b[0m\u001b[0mpane\u001b[0m \u001b[1;32mimport\u001b[0m \u001b[0mpanel\u001b[0m\u001b[1;33m\u001b[0m\u001b[1;33m\u001b[0m\u001b[0m\n\u001b[0;32m    371\u001b[0m     \u001b[0mmodel\u001b[0m \u001b[1;33m=\u001b[0m \u001b[0mpanel\u001b[0m\u001b[1;33m(\u001b[0m\u001b[0mobj\u001b[0m\u001b[1;33m,\u001b[0m \u001b[1;33m**\u001b[0m\u001b[0mkwargs\u001b[0m\u001b[1;33m)\u001b[0m\u001b[1;33m.\u001b[0m\u001b[0mget_root\u001b[0m\u001b[1;33m(\u001b[0m\u001b[1;33m)\u001b[0m\u001b[1;33m\u001b[0m\u001b[1;33m\u001b[0m\u001b[0m\n",
      "\u001b[1;31mModuleNotFoundError\u001b[0m: No module named 'jupyter_bokeh'"
     ]
    },
    {
     "data": {
      "text/plain": [
       ":DynamicMap   [neighbourhood]"
      ]
     },
     "execution_count": 22,
     "metadata": {},
     "output_type": "execute_result"
    }
   ],
   "source": [
    "# Use hvplot to create an interactive line chart of the average house value per neighbourhood\n",
    "# The plot should have a dropdown selector for the neighbourhood\n",
    "df_average_value.hvplot.line(\n",
    "    \"year\",\n",
    "    \"average_house_value\",\n",
    "    xlabel=\"Year\",\n",
    "    ylabel=\"Avg. House Value\",\n",
    "    groupby=\"neighbourhood\",\n",
    ")"
   ]
  },
  {
   "cell_type": "markdown",
   "metadata": {},
   "source": [
    "## Number of Dwelling Types per Year\n",
    "\n",
    "In this section, you will use `hvplot` to create an interactive visualization of the average number of dwelling types per year with a dropdown selector for the neighbourhood."
   ]
  },
  {
   "cell_type": "code",
   "execution_count": 23,
   "metadata": {},
   "outputs": [
    {
     "data": {
      "text/html": [
       "<div>\n",
       "<style scoped>\n",
       "    .dataframe tbody tr th:only-of-type {\n",
       "        vertical-align: middle;\n",
       "    }\n",
       "\n",
       "    .dataframe tbody tr th {\n",
       "        vertical-align: top;\n",
       "    }\n",
       "\n",
       "    .dataframe thead th {\n",
       "        text-align: right;\n",
       "    }\n",
       "</style>\n",
       "<table border=\"1\" class=\"dataframe\">\n",
       "  <thead>\n",
       "    <tr style=\"text-align: right;\">\n",
       "      <th></th>\n",
       "      <th>year</th>\n",
       "      <th>neighbourhood</th>\n",
       "      <th>single_detached_house</th>\n",
       "      <th>apartment_five_storeys_plus</th>\n",
       "      <th>movable_dwelling</th>\n",
       "      <th>semi_detached_house</th>\n",
       "      <th>row_house</th>\n",
       "      <th>duplex</th>\n",
       "      <th>apartment_five_storeys_less</th>\n",
       "      <th>other_house</th>\n",
       "      <th>average_house_value</th>\n",
       "      <th>shelter_costs_owned</th>\n",
       "      <th>shelter_costs_rented</th>\n",
       "    </tr>\n",
       "  </thead>\n",
       "  <tbody>\n",
       "    <tr>\n",
       "      <th>0</th>\n",
       "      <td>2001</td>\n",
       "      <td>Agincourt North</td>\n",
       "      <td>3715</td>\n",
       "      <td>1480</td>\n",
       "      <td>0</td>\n",
       "      <td>1055</td>\n",
       "      <td>1295</td>\n",
       "      <td>195</td>\n",
       "      <td>185</td>\n",
       "      <td>5</td>\n",
       "      <td>200388</td>\n",
       "      <td>810</td>\n",
       "      <td>870</td>\n",
       "    </tr>\n",
       "    <tr>\n",
       "      <th>1</th>\n",
       "      <td>2001</td>\n",
       "      <td>Agincourt South-Malvern West</td>\n",
       "      <td>3250</td>\n",
       "      <td>1835</td>\n",
       "      <td>0</td>\n",
       "      <td>545</td>\n",
       "      <td>455</td>\n",
       "      <td>105</td>\n",
       "      <td>425</td>\n",
       "      <td>0</td>\n",
       "      <td>203047</td>\n",
       "      <td>806</td>\n",
       "      <td>892</td>\n",
       "    </tr>\n",
       "    <tr>\n",
       "      <th>2</th>\n",
       "      <td>2001</td>\n",
       "      <td>Alderwood</td>\n",
       "      <td>3175</td>\n",
       "      <td>315</td>\n",
       "      <td>0</td>\n",
       "      <td>470</td>\n",
       "      <td>50</td>\n",
       "      <td>185</td>\n",
       "      <td>370</td>\n",
       "      <td>0</td>\n",
       "      <td>259998</td>\n",
       "      <td>817</td>\n",
       "      <td>924</td>\n",
       "    </tr>\n",
       "    <tr>\n",
       "      <th>3</th>\n",
       "      <td>2001</td>\n",
       "      <td>Annex</td>\n",
       "      <td>1060</td>\n",
       "      <td>6090</td>\n",
       "      <td>5</td>\n",
       "      <td>1980</td>\n",
       "      <td>605</td>\n",
       "      <td>275</td>\n",
       "      <td>3710</td>\n",
       "      <td>165</td>\n",
       "      <td>453850</td>\n",
       "      <td>1027</td>\n",
       "      <td>1378</td>\n",
       "    </tr>\n",
       "    <tr>\n",
       "      <th>4</th>\n",
       "      <td>2001</td>\n",
       "      <td>Banbury-Don Mills</td>\n",
       "      <td>3615</td>\n",
       "      <td>4465</td>\n",
       "      <td>0</td>\n",
       "      <td>240</td>\n",
       "      <td>380</td>\n",
       "      <td>15</td>\n",
       "      <td>1360</td>\n",
       "      <td>0</td>\n",
       "      <td>371864</td>\n",
       "      <td>1007</td>\n",
       "      <td>1163</td>\n",
       "    </tr>\n",
       "    <tr>\n",
       "      <th>5</th>\n",
       "      <td>2001</td>\n",
       "      <td>Bathurst Manor</td>\n",
       "      <td>2405</td>\n",
       "      <td>1550</td>\n",
       "      <td>0</td>\n",
       "      <td>130</td>\n",
       "      <td>130</td>\n",
       "      <td>375</td>\n",
       "      <td>745</td>\n",
       "      <td>0</td>\n",
       "      <td>304749</td>\n",
       "      <td>843</td>\n",
       "      <td>1052</td>\n",
       "    </tr>\n",
       "    <tr>\n",
       "      <th>6</th>\n",
       "      <td>2001</td>\n",
       "      <td>Bay Street Corridor</td>\n",
       "      <td>10</td>\n",
       "      <td>7575</td>\n",
       "      <td>0</td>\n",
       "      <td>0</td>\n",
       "      <td>15</td>\n",
       "      <td>0</td>\n",
       "      <td>240</td>\n",
       "      <td>0</td>\n",
       "      <td>257404</td>\n",
       "      <td>1218</td>\n",
       "      <td>1142</td>\n",
       "    </tr>\n",
       "    <tr>\n",
       "      <th>7</th>\n",
       "      <td>2001</td>\n",
       "      <td>Bayview Village</td>\n",
       "      <td>2170</td>\n",
       "      <td>630</td>\n",
       "      <td>0</td>\n",
       "      <td>170</td>\n",
       "      <td>765</td>\n",
       "      <td>15</td>\n",
       "      <td>640</td>\n",
       "      <td>0</td>\n",
       "      <td>327644</td>\n",
       "      <td>1197</td>\n",
       "      <td>1164</td>\n",
       "    </tr>\n",
       "    <tr>\n",
       "      <th>8</th>\n",
       "      <td>2001</td>\n",
       "      <td>Bayview Woods-Steeles</td>\n",
       "      <td>1650</td>\n",
       "      <td>1715</td>\n",
       "      <td>0</td>\n",
       "      <td>925</td>\n",
       "      <td>105</td>\n",
       "      <td>10</td>\n",
       "      <td>170</td>\n",
       "      <td>5</td>\n",
       "      <td>343535</td>\n",
       "      <td>1212</td>\n",
       "      <td>1018</td>\n",
       "    </tr>\n",
       "    <tr>\n",
       "      <th>9</th>\n",
       "      <td>2001</td>\n",
       "      <td>Bedford Park-Nortown</td>\n",
       "      <td>4985</td>\n",
       "      <td>2080</td>\n",
       "      <td>0</td>\n",
       "      <td>45</td>\n",
       "      <td>40</td>\n",
       "      <td>210</td>\n",
       "      <td>1235</td>\n",
       "      <td>15</td>\n",
       "      <td>565304</td>\n",
       "      <td>933</td>\n",
       "      <td>1491</td>\n",
       "    </tr>\n",
       "  </tbody>\n",
       "</table>\n",
       "</div>"
      ],
      "text/plain": [
       "   year                 neighbourhood  single_detached_house  \\\n",
       "0  2001               Agincourt North                   3715   \n",
       "1  2001  Agincourt South-Malvern West                   3250   \n",
       "2  2001                     Alderwood                   3175   \n",
       "3  2001                         Annex                   1060   \n",
       "4  2001             Banbury-Don Mills                   3615   \n",
       "5  2001                Bathurst Manor                   2405   \n",
       "6  2001           Bay Street Corridor                     10   \n",
       "7  2001               Bayview Village                   2170   \n",
       "8  2001         Bayview Woods-Steeles                   1650   \n",
       "9  2001          Bedford Park-Nortown                   4985   \n",
       "\n",
       "   apartment_five_storeys_plus  movable_dwelling  semi_detached_house  \\\n",
       "0                         1480                 0                 1055   \n",
       "1                         1835                 0                  545   \n",
       "2                          315                 0                  470   \n",
       "3                         6090                 5                 1980   \n",
       "4                         4465                 0                  240   \n",
       "5                         1550                 0                  130   \n",
       "6                         7575                 0                    0   \n",
       "7                          630                 0                  170   \n",
       "8                         1715                 0                  925   \n",
       "9                         2080                 0                   45   \n",
       "\n",
       "   row_house  duplex  apartment_five_storeys_less  other_house  \\\n",
       "0       1295     195                          185            5   \n",
       "1        455     105                          425            0   \n",
       "2         50     185                          370            0   \n",
       "3        605     275                         3710          165   \n",
       "4        380      15                         1360            0   \n",
       "5        130     375                          745            0   \n",
       "6         15       0                          240            0   \n",
       "7        765      15                          640            0   \n",
       "8        105      10                          170            5   \n",
       "9         40     210                         1235           15   \n",
       "\n",
       "   average_house_value  shelter_costs_owned  shelter_costs_rented  \n",
       "0               200388                  810                   870  \n",
       "1               203047                  806                   892  \n",
       "2               259998                  817                   924  \n",
       "3               453850                 1027                  1378  \n",
       "4               371864                 1007                  1163  \n",
       "5               304749                  843                  1052  \n",
       "6               257404                 1218                  1142  \n",
       "7               327644                 1197                  1164  \n",
       "8               343535                 1212                  1018  \n",
       "9               565304                  933                  1491  "
      ]
     },
     "execution_count": 23,
     "metadata": {},
     "output_type": "execute_result"
    }
   ],
   "source": [
    "# Fetch the data of all dwelling types per year\n",
    "df_number_dwellings = to_data.reset_index()\n",
    "df_number_dwellings.head(10)"
   ]
  },
  {
   "cell_type": "code",
   "execution_count": 24,
   "metadata": {},
   "outputs": [
    {
     "ename": "ModuleNotFoundError",
     "evalue": "No module named 'jupyter_bokeh'",
     "output_type": "error",
     "traceback": [
      "\u001b[1;31m---------------------------------------------------------------------------\u001b[0m",
      "\u001b[1;31mModuleNotFoundError\u001b[0m                       Traceback (most recent call last)",
      "\u001b[1;32m~\\anaconda3\\envs\\pyvizenv\\lib\\site-packages\\IPython\\core\\formatters.py\u001b[0m in \u001b[0;36m__call__\u001b[1;34m(self, obj, include, exclude)\u001b[0m\n\u001b[0;32m    968\u001b[0m \u001b[1;33m\u001b[0m\u001b[0m\n\u001b[0;32m    969\u001b[0m             \u001b[1;32mif\u001b[0m \u001b[0mmethod\u001b[0m \u001b[1;32mis\u001b[0m \u001b[1;32mnot\u001b[0m \u001b[1;32mNone\u001b[0m\u001b[1;33m:\u001b[0m\u001b[1;33m\u001b[0m\u001b[1;33m\u001b[0m\u001b[0m\n\u001b[1;32m--> 970\u001b[1;33m                 \u001b[1;32mreturn\u001b[0m \u001b[0mmethod\u001b[0m\u001b[1;33m(\u001b[0m\u001b[0minclude\u001b[0m\u001b[1;33m=\u001b[0m\u001b[0minclude\u001b[0m\u001b[1;33m,\u001b[0m \u001b[0mexclude\u001b[0m\u001b[1;33m=\u001b[0m\u001b[0mexclude\u001b[0m\u001b[1;33m)\u001b[0m\u001b[1;33m\u001b[0m\u001b[1;33m\u001b[0m\u001b[0m\n\u001b[0m\u001b[0;32m    971\u001b[0m             \u001b[1;32mreturn\u001b[0m \u001b[1;32mNone\u001b[0m\u001b[1;33m\u001b[0m\u001b[1;33m\u001b[0m\u001b[0m\n\u001b[0;32m    972\u001b[0m         \u001b[1;32melse\u001b[0m\u001b[1;33m:\u001b[0m\u001b[1;33m\u001b[0m\u001b[1;33m\u001b[0m\u001b[0m\n",
      "\u001b[1;32m~\\anaconda3\\envs\\pyvizenv\\lib\\site-packages\\holoviews\\core\\dimension.py\u001b[0m in \u001b[0;36m_repr_mimebundle_\u001b[1;34m(self, include, exclude)\u001b[0m\n\u001b[0;32m   1314\u001b[0m         \u001b[0mcombined\u001b[0m \u001b[1;32mand\u001b[0m \u001b[0mreturned\u001b[0m\u001b[1;33m.\u001b[0m\u001b[1;33m\u001b[0m\u001b[1;33m\u001b[0m\u001b[0m\n\u001b[0;32m   1315\u001b[0m         \"\"\"\n\u001b[1;32m-> 1316\u001b[1;33m         \u001b[1;32mreturn\u001b[0m \u001b[0mStore\u001b[0m\u001b[1;33m.\u001b[0m\u001b[0mrender\u001b[0m\u001b[1;33m(\u001b[0m\u001b[0mself\u001b[0m\u001b[1;33m)\u001b[0m\u001b[1;33m\u001b[0m\u001b[1;33m\u001b[0m\u001b[0m\n\u001b[0m\u001b[0;32m   1317\u001b[0m \u001b[1;33m\u001b[0m\u001b[0m\n\u001b[0;32m   1318\u001b[0m \u001b[1;33m\u001b[0m\u001b[0m\n",
      "\u001b[1;32m~\\anaconda3\\envs\\pyvizenv\\lib\\site-packages\\holoviews\\core\\options.py\u001b[0m in \u001b[0;36mrender\u001b[1;34m(cls, obj)\u001b[0m\n\u001b[0;32m   1403\u001b[0m         \u001b[0mdata\u001b[0m\u001b[1;33m,\u001b[0m \u001b[0mmetadata\u001b[0m \u001b[1;33m=\u001b[0m \u001b[1;33m{\u001b[0m\u001b[1;33m}\u001b[0m\u001b[1;33m,\u001b[0m \u001b[1;33m{\u001b[0m\u001b[1;33m}\u001b[0m\u001b[1;33m\u001b[0m\u001b[1;33m\u001b[0m\u001b[0m\n\u001b[0;32m   1404\u001b[0m         \u001b[1;32mfor\u001b[0m \u001b[0mhook\u001b[0m \u001b[1;32min\u001b[0m \u001b[0mhooks\u001b[0m\u001b[1;33m:\u001b[0m\u001b[1;33m\u001b[0m\u001b[1;33m\u001b[0m\u001b[0m\n\u001b[1;32m-> 1405\u001b[1;33m             \u001b[0mret\u001b[0m \u001b[1;33m=\u001b[0m \u001b[0mhook\u001b[0m\u001b[1;33m(\u001b[0m\u001b[0mobj\u001b[0m\u001b[1;33m)\u001b[0m\u001b[1;33m\u001b[0m\u001b[1;33m\u001b[0m\u001b[0m\n\u001b[0m\u001b[0;32m   1406\u001b[0m             \u001b[1;32mif\u001b[0m \u001b[0mret\u001b[0m \u001b[1;32mis\u001b[0m \u001b[1;32mNone\u001b[0m\u001b[1;33m:\u001b[0m\u001b[1;33m\u001b[0m\u001b[1;33m\u001b[0m\u001b[0m\n\u001b[0;32m   1407\u001b[0m                 \u001b[1;32mcontinue\u001b[0m\u001b[1;33m\u001b[0m\u001b[1;33m\u001b[0m\u001b[0m\n",
      "\u001b[1;32m~\\anaconda3\\envs\\pyvizenv\\lib\\site-packages\\holoviews\\ipython\\display_hooks.py\u001b[0m in \u001b[0;36mpprint_display\u001b[1;34m(obj)\u001b[0m\n\u001b[0;32m    280\u001b[0m     \u001b[1;32mif\u001b[0m \u001b[1;32mnot\u001b[0m \u001b[0mip\u001b[0m\u001b[1;33m.\u001b[0m\u001b[0mdisplay_formatter\u001b[0m\u001b[1;33m.\u001b[0m\u001b[0mformatters\u001b[0m\u001b[1;33m[\u001b[0m\u001b[1;34m'text/plain'\u001b[0m\u001b[1;33m]\u001b[0m\u001b[1;33m.\u001b[0m\u001b[0mpprint\u001b[0m\u001b[1;33m:\u001b[0m\u001b[1;33m\u001b[0m\u001b[1;33m\u001b[0m\u001b[0m\n\u001b[0;32m    281\u001b[0m         \u001b[1;32mreturn\u001b[0m \u001b[1;32mNone\u001b[0m\u001b[1;33m\u001b[0m\u001b[1;33m\u001b[0m\u001b[0m\n\u001b[1;32m--> 282\u001b[1;33m     \u001b[1;32mreturn\u001b[0m \u001b[0mdisplay\u001b[0m\u001b[1;33m(\u001b[0m\u001b[0mobj\u001b[0m\u001b[1;33m,\u001b[0m \u001b[0mraw_output\u001b[0m\u001b[1;33m=\u001b[0m\u001b[1;32mTrue\u001b[0m\u001b[1;33m)\u001b[0m\u001b[1;33m\u001b[0m\u001b[1;33m\u001b[0m\u001b[0m\n\u001b[0m\u001b[0;32m    283\u001b[0m \u001b[1;33m\u001b[0m\u001b[0m\n\u001b[0;32m    284\u001b[0m \u001b[1;33m\u001b[0m\u001b[0m\n",
      "\u001b[1;32m~\\anaconda3\\envs\\pyvizenv\\lib\\site-packages\\holoviews\\ipython\\display_hooks.py\u001b[0m in \u001b[0;36mdisplay\u001b[1;34m(obj, raw_output, **kwargs)\u001b[0m\n\u001b[0;32m    256\u001b[0m     \u001b[1;32melif\u001b[0m \u001b[0misinstance\u001b[0m\u001b[1;33m(\u001b[0m\u001b[0mobj\u001b[0m\u001b[1;33m,\u001b[0m \u001b[1;33m(\u001b[0m\u001b[0mHoloMap\u001b[0m\u001b[1;33m,\u001b[0m \u001b[0mDynamicMap\u001b[0m\u001b[1;33m)\u001b[0m\u001b[1;33m)\u001b[0m\u001b[1;33m:\u001b[0m\u001b[1;33m\u001b[0m\u001b[1;33m\u001b[0m\u001b[0m\n\u001b[0;32m    257\u001b[0m         \u001b[1;32mwith\u001b[0m \u001b[0moption_state\u001b[0m\u001b[1;33m(\u001b[0m\u001b[0mobj\u001b[0m\u001b[1;33m)\u001b[0m\u001b[1;33m:\u001b[0m\u001b[1;33m\u001b[0m\u001b[1;33m\u001b[0m\u001b[0m\n\u001b[1;32m--> 258\u001b[1;33m             \u001b[0moutput\u001b[0m \u001b[1;33m=\u001b[0m \u001b[0mmap_display\u001b[0m\u001b[1;33m(\u001b[0m\u001b[0mobj\u001b[0m\u001b[1;33m)\u001b[0m\u001b[1;33m\u001b[0m\u001b[1;33m\u001b[0m\u001b[0m\n\u001b[0m\u001b[0;32m    259\u001b[0m     \u001b[1;32melif\u001b[0m \u001b[0misinstance\u001b[0m\u001b[1;33m(\u001b[0m\u001b[0mobj\u001b[0m\u001b[1;33m,\u001b[0m \u001b[0mPlot\u001b[0m\u001b[1;33m)\u001b[0m\u001b[1;33m:\u001b[0m\u001b[1;33m\u001b[0m\u001b[1;33m\u001b[0m\u001b[0m\n\u001b[0;32m    260\u001b[0m         \u001b[0moutput\u001b[0m \u001b[1;33m=\u001b[0m \u001b[0mrender\u001b[0m\u001b[1;33m(\u001b[0m\u001b[0mobj\u001b[0m\u001b[1;33m)\u001b[0m\u001b[1;33m\u001b[0m\u001b[1;33m\u001b[0m\u001b[0m\n",
      "\u001b[1;32m~\\anaconda3\\envs\\pyvizenv\\lib\\site-packages\\holoviews\\ipython\\display_hooks.py\u001b[0m in \u001b[0;36mwrapped\u001b[1;34m(element)\u001b[0m\n\u001b[0;32m    144\u001b[0m         \u001b[1;32mtry\u001b[0m\u001b[1;33m:\u001b[0m\u001b[1;33m\u001b[0m\u001b[1;33m\u001b[0m\u001b[0m\n\u001b[0;32m    145\u001b[0m             \u001b[0mmax_frames\u001b[0m \u001b[1;33m=\u001b[0m \u001b[0mOutputSettings\u001b[0m\u001b[1;33m.\u001b[0m\u001b[0moptions\u001b[0m\u001b[1;33m[\u001b[0m\u001b[1;34m'max_frames'\u001b[0m\u001b[1;33m]\u001b[0m\u001b[1;33m\u001b[0m\u001b[1;33m\u001b[0m\u001b[0m\n\u001b[1;32m--> 146\u001b[1;33m             \u001b[0mmimebundle\u001b[0m \u001b[1;33m=\u001b[0m \u001b[0mfn\u001b[0m\u001b[1;33m(\u001b[0m\u001b[0melement\u001b[0m\u001b[1;33m,\u001b[0m \u001b[0mmax_frames\u001b[0m\u001b[1;33m=\u001b[0m\u001b[0mmax_frames\u001b[0m\u001b[1;33m)\u001b[0m\u001b[1;33m\u001b[0m\u001b[1;33m\u001b[0m\u001b[0m\n\u001b[0m\u001b[0;32m    147\u001b[0m             \u001b[1;32mif\u001b[0m \u001b[0mmimebundle\u001b[0m \u001b[1;32mis\u001b[0m \u001b[1;32mNone\u001b[0m\u001b[1;33m:\u001b[0m\u001b[1;33m\u001b[0m\u001b[1;33m\u001b[0m\u001b[0m\n\u001b[0;32m    148\u001b[0m                 \u001b[1;32mreturn\u001b[0m \u001b[1;33m{\u001b[0m\u001b[1;33m}\u001b[0m\u001b[1;33m,\u001b[0m \u001b[1;33m{\u001b[0m\u001b[1;33m}\u001b[0m\u001b[1;33m\u001b[0m\u001b[1;33m\u001b[0m\u001b[0m\n",
      "\u001b[1;32m~\\anaconda3\\envs\\pyvizenv\\lib\\site-packages\\holoviews\\ipython\\display_hooks.py\u001b[0m in \u001b[0;36mmap_display\u001b[1;34m(vmap, max_frames)\u001b[0m\n\u001b[0;32m    204\u001b[0m         \u001b[1;32mreturn\u001b[0m \u001b[1;32mNone\u001b[0m\u001b[1;33m\u001b[0m\u001b[1;33m\u001b[0m\u001b[0m\n\u001b[0;32m    205\u001b[0m \u001b[1;33m\u001b[0m\u001b[0m\n\u001b[1;32m--> 206\u001b[1;33m     \u001b[1;32mreturn\u001b[0m \u001b[0mrender\u001b[0m\u001b[1;33m(\u001b[0m\u001b[0mvmap\u001b[0m\u001b[1;33m)\u001b[0m\u001b[1;33m\u001b[0m\u001b[1;33m\u001b[0m\u001b[0m\n\u001b[0m\u001b[0;32m    207\u001b[0m \u001b[1;33m\u001b[0m\u001b[0m\n\u001b[0;32m    208\u001b[0m \u001b[1;33m\u001b[0m\u001b[0m\n",
      "\u001b[1;32m~\\anaconda3\\envs\\pyvizenv\\lib\\site-packages\\holoviews\\ipython\\display_hooks.py\u001b[0m in \u001b[0;36mrender\u001b[1;34m(obj, **kwargs)\u001b[0m\n\u001b[0;32m     66\u001b[0m         \u001b[0mrenderer\u001b[0m \u001b[1;33m=\u001b[0m \u001b[0mrenderer\u001b[0m\u001b[1;33m.\u001b[0m\u001b[0minstance\u001b[0m\u001b[1;33m(\u001b[0m\u001b[0mfig\u001b[0m\u001b[1;33m=\u001b[0m\u001b[1;34m'png'\u001b[0m\u001b[1;33m)\u001b[0m\u001b[1;33m\u001b[0m\u001b[1;33m\u001b[0m\u001b[0m\n\u001b[0;32m     67\u001b[0m \u001b[1;33m\u001b[0m\u001b[0m\n\u001b[1;32m---> 68\u001b[1;33m     \u001b[1;32mreturn\u001b[0m \u001b[0mrenderer\u001b[0m\u001b[1;33m.\u001b[0m\u001b[0mcomponents\u001b[0m\u001b[1;33m(\u001b[0m\u001b[0mobj\u001b[0m\u001b[1;33m,\u001b[0m \u001b[1;33m**\u001b[0m\u001b[0mkwargs\u001b[0m\u001b[1;33m)\u001b[0m\u001b[1;33m\u001b[0m\u001b[1;33m\u001b[0m\u001b[0m\n\u001b[0m\u001b[0;32m     69\u001b[0m \u001b[1;33m\u001b[0m\u001b[0m\n\u001b[0;32m     70\u001b[0m \u001b[1;33m\u001b[0m\u001b[0m\n",
      "\u001b[1;32m~\\anaconda3\\envs\\pyvizenv\\lib\\site-packages\\holoviews\\plotting\\renderer.py\u001b[0m in \u001b[0;36mcomponents\u001b[1;34m(self, obj, fmt, comm, **kwargs)\u001b[0m\n\u001b[0;32m    426\u001b[0m \u001b[1;33m\u001b[0m\u001b[0m\n\u001b[0;32m    427\u001b[0m             \u001b[1;31m# Handle rendering object as ipywidget\u001b[0m\u001b[1;33m\u001b[0m\u001b[1;33m\u001b[0m\u001b[1;33m\u001b[0m\u001b[0m\n\u001b[1;32m--> 428\u001b[1;33m             \u001b[0mwidget\u001b[0m \u001b[1;33m=\u001b[0m \u001b[0mipywidget\u001b[0m\u001b[1;33m(\u001b[0m\u001b[0mplot\u001b[0m\u001b[1;33m,\u001b[0m \u001b[0mcombine_events\u001b[0m\u001b[1;33m=\u001b[0m\u001b[1;32mTrue\u001b[0m\u001b[1;33m)\u001b[0m\u001b[1;33m\u001b[0m\u001b[1;33m\u001b[0m\u001b[0m\n\u001b[0m\u001b[0;32m    429\u001b[0m             \u001b[1;32mif\u001b[0m \u001b[0mhasattr\u001b[0m\u001b[1;33m(\u001b[0m\u001b[0mwidget\u001b[0m\u001b[1;33m,\u001b[0m \u001b[1;34m'_repr_mimebundle_'\u001b[0m\u001b[1;33m)\u001b[0m\u001b[1;33m:\u001b[0m\u001b[1;33m\u001b[0m\u001b[1;33m\u001b[0m\u001b[0m\n\u001b[0;32m    430\u001b[0m                 \u001b[1;32mreturn\u001b[0m \u001b[0mwidget\u001b[0m\u001b[1;33m.\u001b[0m\u001b[0m_repr_mimebundle\u001b[0m\u001b[1;33m(\u001b[0m\u001b[1;33m)\u001b[0m\u001b[1;33m\u001b[0m\u001b[1;33m\u001b[0m\u001b[0m\n",
      "\u001b[1;32m~\\anaconda3\\envs\\pyvizenv\\lib\\site-packages\\panel\\io\\notebook.py\u001b[0m in \u001b[0;36mipywidget\u001b[1;34m(obj, **kwargs)\u001b[0m\n\u001b[0;32m    367\u001b[0m     \u001b[0mReturns\u001b[0m \u001b[0man\u001b[0m \u001b[0mipywidget\u001b[0m \u001b[0mmodel\u001b[0m \u001b[0mwhich\u001b[0m \u001b[0mrenders\u001b[0m \u001b[0mthe\u001b[0m \u001b[0mPanel\u001b[0m \u001b[0mobject\u001b[0m\u001b[1;33m.\u001b[0m\u001b[1;33m\u001b[0m\u001b[1;33m\u001b[0m\u001b[0m\n\u001b[0;32m    368\u001b[0m     \"\"\"\n\u001b[1;32m--> 369\u001b[1;33m     \u001b[1;32mfrom\u001b[0m \u001b[0mjupyter_bokeh\u001b[0m\u001b[1;33m.\u001b[0m\u001b[0mwidgets\u001b[0m   \u001b[1;32mimport\u001b[0m \u001b[0mBokehModel\u001b[0m\u001b[1;33m\u001b[0m\u001b[1;33m\u001b[0m\u001b[0m\n\u001b[0m\u001b[0;32m    370\u001b[0m     \u001b[1;32mfrom\u001b[0m \u001b[1;33m.\u001b[0m\u001b[1;33m.\u001b[0m\u001b[0mpane\u001b[0m \u001b[1;32mimport\u001b[0m \u001b[0mpanel\u001b[0m\u001b[1;33m\u001b[0m\u001b[1;33m\u001b[0m\u001b[0m\n\u001b[0;32m    371\u001b[0m     \u001b[0mmodel\u001b[0m \u001b[1;33m=\u001b[0m \u001b[0mpanel\u001b[0m\u001b[1;33m(\u001b[0m\u001b[0mobj\u001b[0m\u001b[1;33m,\u001b[0m \u001b[1;33m**\u001b[0m\u001b[0mkwargs\u001b[0m\u001b[1;33m)\u001b[0m\u001b[1;33m.\u001b[0m\u001b[0mget_root\u001b[0m\u001b[1;33m(\u001b[0m\u001b[1;33m)\u001b[0m\u001b[1;33m\u001b[0m\u001b[1;33m\u001b[0m\u001b[0m\n",
      "\u001b[1;31mModuleNotFoundError\u001b[0m: No module named 'jupyter_bokeh'"
     ]
    },
    {
     "data": {
      "text/plain": [
       ":DynamicMap   [neighbourhood]"
      ]
     },
     "execution_count": 24,
     "metadata": {},
     "output_type": "execute_result"
    }
   ],
   "source": [
    "# Use hvplot to create an interactive bar chart of the number of dwelling types per neighbourhood\n",
    "# The plot should have a dropdown selector for the neighbourhood\n",
    "df_number_dwellings.hvplot.bar(\n",
    "    \"year\",\n",
    "    dwelling_types,\n",
    "    xlabel=\"Year\",\n",
    "    ylabel=\"Dwelling Type Units\",\n",
    "    rot=90,\n",
    "    height=500,\n",
    "    groupby=\"neighbourhood\",\n",
    ")"
   ]
  },
  {
   "cell_type": "markdown",
   "metadata": {},
   "source": [
    "- - - "
   ]
  },
  {
   "cell_type": "markdown",
   "metadata": {},
   "source": [
    "## The Top 10 Most Expensive Neighbourhoods\n",
    "\n",
    "In this section, you will need to calculate the house value for each neighbourhood and then sort the values to obtain the top 10 most expensive neighbourhoods on average. Plot the results as a bar chart."
   ]
  },
  {
   "cell_type": "code",
   "execution_count": 25,
   "metadata": {},
   "outputs": [
    {
     "data": {
      "text/html": [
       "<div>\n",
       "<style scoped>\n",
       "    .dataframe tbody tr th:only-of-type {\n",
       "        vertical-align: middle;\n",
       "    }\n",
       "\n",
       "    .dataframe tbody tr th {\n",
       "        vertical-align: top;\n",
       "    }\n",
       "\n",
       "    .dataframe thead th {\n",
       "        text-align: right;\n",
       "    }\n",
       "</style>\n",
       "<table border=\"1\" class=\"dataframe\">\n",
       "  <thead>\n",
       "    <tr style=\"text-align: right;\">\n",
       "      <th></th>\n",
       "      <th>neighbourhood</th>\n",
       "      <th>single_detached_house</th>\n",
       "      <th>apartment_five_storeys_plus</th>\n",
       "      <th>movable_dwelling</th>\n",
       "      <th>semi_detached_house</th>\n",
       "      <th>row_house</th>\n",
       "      <th>duplex</th>\n",
       "      <th>apartment_five_storeys_less</th>\n",
       "      <th>other_house</th>\n",
       "      <th>average_house_value</th>\n",
       "      <th>shelter_costs_owned</th>\n",
       "      <th>shelter_costs_rented</th>\n",
       "    </tr>\n",
       "  </thead>\n",
       "  <tbody>\n",
       "    <tr>\n",
       "      <th>0</th>\n",
       "      <td>Bridle Path-Sunnybrook-York Mills</td>\n",
       "      <td>2260.00</td>\n",
       "      <td>331.25</td>\n",
       "      <td>0.00</td>\n",
       "      <td>36.25</td>\n",
       "      <td>90.00</td>\n",
       "      <td>25.0</td>\n",
       "      <td>40.00</td>\n",
       "      <td>0.00</td>\n",
       "      <td>1526485.75</td>\n",
       "      <td>2360.75</td>\n",
       "      <td>2321.75</td>\n",
       "    </tr>\n",
       "    <tr>\n",
       "      <th>1</th>\n",
       "      <td>Forest Hill South</td>\n",
       "      <td>1742.50</td>\n",
       "      <td>2031.25</td>\n",
       "      <td>1.25</td>\n",
       "      <td>61.25</td>\n",
       "      <td>45.00</td>\n",
       "      <td>75.0</td>\n",
       "      <td>1027.50</td>\n",
       "      <td>3.75</td>\n",
       "      <td>1195992.50</td>\n",
       "      <td>1781.00</td>\n",
       "      <td>1313.75</td>\n",
       "    </tr>\n",
       "    <tr>\n",
       "      <th>2</th>\n",
       "      <td>Lawrence Park South</td>\n",
       "      <td>3472.50</td>\n",
       "      <td>773.75</td>\n",
       "      <td>0.00</td>\n",
       "      <td>126.25</td>\n",
       "      <td>38.75</td>\n",
       "      <td>225.0</td>\n",
       "      <td>966.25</td>\n",
       "      <td>16.25</td>\n",
       "      <td>1094027.75</td>\n",
       "      <td>1954.00</td>\n",
       "      <td>1372.75</td>\n",
       "    </tr>\n",
       "    <tr>\n",
       "      <th>3</th>\n",
       "      <td>Rosedale-Moore Park</td>\n",
       "      <td>2498.75</td>\n",
       "      <td>4641.25</td>\n",
       "      <td>0.00</td>\n",
       "      <td>486.25</td>\n",
       "      <td>245.00</td>\n",
       "      <td>327.5</td>\n",
       "      <td>1618.75</td>\n",
       "      <td>2.50</td>\n",
       "      <td>1093640.00</td>\n",
       "      <td>1909.75</td>\n",
       "      <td>1537.25</td>\n",
       "    </tr>\n",
       "    <tr>\n",
       "      <th>4</th>\n",
       "      <td>St.Andrew-Windfields</td>\n",
       "      <td>3225.00</td>\n",
       "      <td>1670.00</td>\n",
       "      <td>0.00</td>\n",
       "      <td>185.00</td>\n",
       "      <td>552.50</td>\n",
       "      <td>97.5</td>\n",
       "      <td>586.25</td>\n",
       "      <td>5.00</td>\n",
       "      <td>999107.00</td>\n",
       "      <td>1880.25</td>\n",
       "      <td>1384.50</td>\n",
       "    </tr>\n",
       "    <tr>\n",
       "      <th>5</th>\n",
       "      <td>Casa Loma</td>\n",
       "      <td>916.25</td>\n",
       "      <td>2310.00</td>\n",
       "      <td>0.00</td>\n",
       "      <td>288.75</td>\n",
       "      <td>201.25</td>\n",
       "      <td>162.5</td>\n",
       "      <td>1192.50</td>\n",
       "      <td>2.50</td>\n",
       "      <td>981064.25</td>\n",
       "      <td>1873.75</td>\n",
       "      <td>1547.75</td>\n",
       "    </tr>\n",
       "    <tr>\n",
       "      <th>6</th>\n",
       "      <td>Bedford Park-Nortown</td>\n",
       "      <td>4865.00</td>\n",
       "      <td>1981.25</td>\n",
       "      <td>0.00</td>\n",
       "      <td>43.75</td>\n",
       "      <td>57.50</td>\n",
       "      <td>287.5</td>\n",
       "      <td>1275.00</td>\n",
       "      <td>88.75</td>\n",
       "      <td>930415.25</td>\n",
       "      <td>1786.75</td>\n",
       "      <td>1255.00</td>\n",
       "    </tr>\n",
       "    <tr>\n",
       "      <th>7</th>\n",
       "      <td>Forest Hill North</td>\n",
       "      <td>1488.75</td>\n",
       "      <td>3392.50</td>\n",
       "      <td>0.00</td>\n",
       "      <td>12.50</td>\n",
       "      <td>16.25</td>\n",
       "      <td>82.5</td>\n",
       "      <td>402.50</td>\n",
       "      <td>1.25</td>\n",
       "      <td>851680.50</td>\n",
       "      <td>1722.75</td>\n",
       "      <td>1245.50</td>\n",
       "    </tr>\n",
       "    <tr>\n",
       "      <th>8</th>\n",
       "      <td>Kingsway South</td>\n",
       "      <td>2326.25</td>\n",
       "      <td>576.25</td>\n",
       "      <td>0.00</td>\n",
       "      <td>66.25</td>\n",
       "      <td>48.75</td>\n",
       "      <td>20.0</td>\n",
       "      <td>336.25</td>\n",
       "      <td>2.50</td>\n",
       "      <td>843234.25</td>\n",
       "      <td>1736.75</td>\n",
       "      <td>1622.00</td>\n",
       "    </tr>\n",
       "    <tr>\n",
       "      <th>9</th>\n",
       "      <td>Yonge-St.Clair</td>\n",
       "      <td>565.00</td>\n",
       "      <td>3948.75</td>\n",
       "      <td>0.00</td>\n",
       "      <td>425.00</td>\n",
       "      <td>212.50</td>\n",
       "      <td>172.5</td>\n",
       "      <td>1308.75</td>\n",
       "      <td>6.25</td>\n",
       "      <td>813220.25</td>\n",
       "      <td>1680.75</td>\n",
       "      <td>1369.00</td>\n",
       "    </tr>\n",
       "  </tbody>\n",
       "</table>\n",
       "</div>"
      ],
      "text/plain": [
       "                       neighbourhood  single_detached_house  \\\n",
       "0  Bridle Path-Sunnybrook-York Mills                2260.00   \n",
       "1                  Forest Hill South                1742.50   \n",
       "2                Lawrence Park South                3472.50   \n",
       "3                Rosedale-Moore Park                2498.75   \n",
       "4               St.Andrew-Windfields                3225.00   \n",
       "5                          Casa Loma                 916.25   \n",
       "6               Bedford Park-Nortown                4865.00   \n",
       "7                  Forest Hill North                1488.75   \n",
       "8                     Kingsway South                2326.25   \n",
       "9                     Yonge-St.Clair                 565.00   \n",
       "\n",
       "   apartment_five_storeys_plus  movable_dwelling  semi_detached_house  \\\n",
       "0                       331.25              0.00                36.25   \n",
       "1                      2031.25              1.25                61.25   \n",
       "2                       773.75              0.00               126.25   \n",
       "3                      4641.25              0.00               486.25   \n",
       "4                      1670.00              0.00               185.00   \n",
       "5                      2310.00              0.00               288.75   \n",
       "6                      1981.25              0.00                43.75   \n",
       "7                      3392.50              0.00                12.50   \n",
       "8                       576.25              0.00                66.25   \n",
       "9                      3948.75              0.00               425.00   \n",
       "\n",
       "   row_house  duplex  apartment_five_storeys_less  other_house  \\\n",
       "0      90.00    25.0                        40.00         0.00   \n",
       "1      45.00    75.0                      1027.50         3.75   \n",
       "2      38.75   225.0                       966.25        16.25   \n",
       "3     245.00   327.5                      1618.75         2.50   \n",
       "4     552.50    97.5                       586.25         5.00   \n",
       "5     201.25   162.5                      1192.50         2.50   \n",
       "6      57.50   287.5                      1275.00        88.75   \n",
       "7      16.25    82.5                       402.50         1.25   \n",
       "8      48.75    20.0                       336.25         2.50   \n",
       "9     212.50   172.5                      1308.75         6.25   \n",
       "\n",
       "   average_house_value  shelter_costs_owned  shelter_costs_rented  \n",
       "0           1526485.75              2360.75               2321.75  \n",
       "1           1195992.50              1781.00               1313.75  \n",
       "2           1094027.75              1954.00               1372.75  \n",
       "3           1093640.00              1909.75               1537.25  \n",
       "4            999107.00              1880.25               1384.50  \n",
       "5            981064.25              1873.75               1547.75  \n",
       "6            930415.25              1786.75               1255.00  \n",
       "7            851680.50              1722.75               1245.50  \n",
       "8            843234.25              1736.75               1622.00  \n",
       "9            813220.25              1680.75               1369.00  "
      ]
     },
     "execution_count": 25,
     "metadata": {},
     "output_type": "execute_result"
    }
   ],
   "source": [
    "# Getting the data from the top 10 expensive neighbourhoods\n",
    "df_expensive_neighbourhoods = to_data.groupby(by=\"neighbourhood\").mean()\n",
    "df_expensive_neighbourhoods = df_expensive_neighbourhoods.sort_values(\n",
    "    by=\"average_house_value\", ascending=False\n",
    ").head(10)\n",
    "df_expensive_neighbourhoods = df_expensive_neighbourhoods.reset_index()\n",
    "df_expensive_neighbourhoods"
   ]
  },
  {
   "cell_type": "code",
   "execution_count": 26,
   "metadata": {},
   "outputs": [
    {
     "data": {},
     "metadata": {},
     "output_type": "display_data"
    },
    {
     "data": {
      "application/vnd.holoviews_exec.v0+json": "",
      "text/html": [
       "<div id='1002'>\n",
       "\n",
       "\n",
       "\n",
       "\n",
       "\n",
       "  <div class=\"bk-root\" id=\"d4a375d8-b13e-4ba9-b16e-419f8c1b2b85\" data-root-id=\"1002\"></div>\n",
       "</div>\n",
       "<script type=\"application/javascript\">(function(root) {\n",
       "  function embed_document(root) {\n",
       "    var docs_json = {\"d7c33969-1694-485e-a32f-c8042e1b2991\":{\"defs\":[{\"extends\":null,\"module\":null,\"name\":\"ReactiveHTML1\",\"overrides\":[],\"properties\":[]},{\"extends\":null,\"module\":null,\"name\":\"FlexBox1\",\"overrides\":[],\"properties\":[{\"default\":\"flex-start\",\"kind\":null,\"name\":\"align_content\"},{\"default\":\"flex-start\",\"kind\":null,\"name\":\"align_items\"},{\"default\":\"row\",\"kind\":null,\"name\":\"flex_direction\"},{\"default\":\"wrap\",\"kind\":null,\"name\":\"flex_wrap\"},{\"default\":\"flex-start\",\"kind\":null,\"name\":\"justify_content\"}]},{\"extends\":null,\"module\":null,\"name\":\"TemplateActions1\",\"overrides\":[],\"properties\":[{\"default\":0,\"kind\":null,\"name\":\"open_modal\"},{\"default\":0,\"kind\":null,\"name\":\"close_modal\"}]},{\"extends\":null,\"module\":null,\"name\":\"MaterialTemplateActions1\",\"overrides\":[],\"properties\":[{\"default\":0,\"kind\":null,\"name\":\"open_modal\"},{\"default\":0,\"kind\":null,\"name\":\"close_modal\"}]}],\"roots\":{\"references\":[{\"attributes\":{\"axis\":{\"id\":\"1019\"},\"coordinates\":null,\"dimension\":1,\"grid_line_color\":null,\"group\":null,\"ticker\":null},\"id\":\"1022\",\"type\":\"Grid\"},{\"attributes\":{\"children\":[{\"id\":\"1003\"},{\"id\":\"1007\"},{\"id\":\"1071\"}],\"margin\":[0,0,0,0],\"name\":\"Row01718\",\"tags\":[\"embedded\"]},\"id\":\"1002\",\"type\":\"Row\"},{\"attributes\":{\"coordinates\":null,\"data_source\":{\"id\":\"1036\"},\"glyph\":{\"id\":\"1039\"},\"group\":null,\"hover_glyph\":null,\"muted_glyph\":{\"id\":\"1041\"},\"nonselection_glyph\":{\"id\":\"1040\"},\"selection_glyph\":{\"id\":\"1044\"},\"view\":{\"id\":\"1043\"}},\"id\":\"1042\",\"type\":\"GlyphRenderer\"},{\"attributes\":{\"source\":{\"id\":\"1036\"}},\"id\":\"1043\",\"type\":\"CDSView\"},{\"attributes\":{\"end\":1600000,\"reset_end\":1600000,\"reset_start\":0,\"tags\":[[[\"average_house_value\",\"average_house_value\",null]]]},\"id\":\"1005\",\"type\":\"Range1d\"},{\"attributes\":{\"bottom\":{\"value\":0},\"fill_alpha\":{\"value\":1.0},\"fill_color\":{\"value\":\"#30a2da\"},\"hatch_alpha\":{\"value\":1.0},\"hatch_color\":{\"value\":\"#30a2da\"},\"hatch_scale\":{\"value\":12.0},\"hatch_weight\":{\"value\":1.0},\"line_alpha\":{\"value\":1.0},\"line_cap\":{\"value\":\"butt\"},\"line_color\":{\"value\":\"black\"},\"line_dash\":{\"value\":[]},\"line_dash_offset\":{\"value\":0},\"line_join\":{\"value\":\"bevel\"},\"line_width\":{\"value\":1},\"top\":{\"field\":\"average_house_value\"},\"width\":{\"value\":0.8},\"x\":{\"field\":\"neighbourhood\"}},\"id\":\"1044\",\"type\":\"VBar\"},{\"attributes\":{},\"id\":\"1046\",\"type\":\"CategoricalTickFormatter\"},{\"attributes\":{\"callback\":null,\"renderers\":[{\"id\":\"1042\"}],\"tags\":[\"hv_created\"],\"tooltips\":[[\"neighbourhood\",\"@{neighbourhood}\"],[\"average_house_value\",\"@{average_house_value}\"]]},\"id\":\"1006\",\"type\":\"HoverTool\"},{\"attributes\":{},\"id\":\"1050\",\"type\":\"AllLabels\"},{\"attributes\":{\"axis_label\":\"Neighbourhood\",\"coordinates\":null,\"formatter\":{\"id\":\"1046\"},\"group\":null,\"major_label_orientation\":1.5707963267948966,\"major_label_policy\":{\"id\":\"1047\"},\"ticker\":{\"id\":\"1017\"}},\"id\":\"1016\",\"type\":\"CategoricalAxis\"},{\"attributes\":{},\"id\":\"1023\",\"type\":\"SaveTool\"},{\"attributes\":{},\"id\":\"1058\",\"type\":\"UnionRenderers\"},{\"attributes\":{},\"id\":\"1024\",\"type\":\"PanTool\"},{\"attributes\":{},\"id\":\"1027\",\"type\":\"ResetTool\"},{\"attributes\":{},\"id\":\"1025\",\"type\":\"WheelZoomTool\"},{\"attributes\":{\"data\":{\"average_house_value\":{\"__ndarray__\":\"AAAAwNVKN0EAAACA2D8yQQAAAMCLsTBBAAAAAAiwMEEAAAAAhn0uQQAAAICQ8C1BAAAAgN5kLEEAAAAAwf0pQQAAAIDEuylBAAAAgEjRKEE=\",\"dtype\":\"float64\",\"order\":\"little\",\"shape\":[10]},\"neighbourhood\":[\"Bridle Path-Sunnybrook-York Mills\",\"Forest Hill South\",\"Lawrence Park South\",\"Rosedale-Moore Park\",\"St.Andrew-Windfields\",\"Casa Loma\",\"Bedford Park-Nortown\",\"Forest Hill North\",\"Kingsway South\",\"Yonge-St.Clair\"]},\"selected\":{\"id\":\"1037\"},\"selection_policy\":{\"id\":\"1058\"}},\"id\":\"1036\",\"type\":\"ColumnDataSource\"},{\"attributes\":{\"overlay\":{\"id\":\"1028\"}},\"id\":\"1026\",\"type\":\"BoxZoomTool\"},{\"attributes\":{\"bottom_units\":\"screen\",\"coordinates\":null,\"fill_alpha\":0.5,\"fill_color\":\"lightgrey\",\"group\":null,\"left_units\":\"screen\",\"level\":\"overlay\",\"line_alpha\":1.0,\"line_color\":\"black\",\"line_dash\":[4,4],\"line_width\":2,\"right_units\":\"screen\",\"syncable\":false,\"top_units\":\"screen\"},\"id\":\"1028\",\"type\":\"BoxAnnotation\"},{\"attributes\":{\"fill_alpha\":{\"value\":0.1},\"fill_color\":{\"value\":\"#30a2da\"},\"hatch_alpha\":{\"value\":0.1},\"hatch_color\":{\"value\":\"#30a2da\"},\"line_alpha\":{\"value\":0.1},\"top\":{\"field\":\"average_house_value\"},\"width\":{\"value\":0.8},\"x\":{\"field\":\"neighbourhood\"}},\"id\":\"1040\",\"type\":\"VBar\"},{\"attributes\":{\"below\":[{\"id\":\"1016\"}],\"center\":[{\"id\":\"1018\"},{\"id\":\"1022\"}],\"height\":500,\"left\":[{\"id\":\"1019\"}],\"margin\":[5,5,5,5],\"min_border_bottom\":10,\"min_border_left\":10,\"min_border_right\":10,\"min_border_top\":10,\"renderers\":[{\"id\":\"1042\"}],\"sizing_mode\":\"fixed\",\"title\":{\"id\":\"1008\"},\"toolbar\":{\"id\":\"1029\"},\"width\":700,\"x_range\":{\"id\":\"1004\"},\"x_scale\":{\"id\":\"1012\"},\"y_range\":{\"id\":\"1005\"},\"y_scale\":{\"id\":\"1014\"}},\"id\":\"1007\",\"subtype\":\"Figure\",\"type\":\"Plot\"},{\"attributes\":{\"margin\":[5,5,5,5],\"name\":\"HSpacer01722\",\"sizing_mode\":\"stretch_width\"},\"id\":\"1003\",\"type\":\"Spacer\"},{\"attributes\":{},\"id\":\"1049\",\"type\":\"BasicTickFormatter\"},{\"attributes\":{\"fill_color\":{\"value\":\"#30a2da\"},\"hatch_color\":{\"value\":\"#30a2da\"},\"top\":{\"field\":\"average_house_value\"},\"width\":{\"value\":0.8},\"x\":{\"field\":\"neighbourhood\"}},\"id\":\"1039\",\"type\":\"VBar\"},{\"attributes\":{\"factors\":[\"Bridle Path-Sunnybrook-York Mills\",\"Forest Hill South\",\"Lawrence Park South\",\"Rosedale-Moore Park\",\"St.Andrew-Windfields\",\"Casa Loma\",\"Bedford Park-Nortown\",\"Forest Hill North\",\"Kingsway South\",\"Yonge-St.Clair\"],\"tags\":[[[\"neighbourhood\",\"neighbourhood\",null]]]},\"id\":\"1004\",\"type\":\"FactorRange\"},{\"attributes\":{\"axis\":{\"id\":\"1016\"},\"coordinates\":null,\"grid_line_color\":null,\"group\":null,\"ticker\":null},\"id\":\"1018\",\"type\":\"Grid\"},{\"attributes\":{\"coordinates\":null,\"group\":null,\"text\":\"Top 10 Expensive Neighbourhoods in Toronto\",\"text_color\":\"black\",\"text_font_size\":\"12pt\"},\"id\":\"1008\",\"type\":\"Title\"},{\"attributes\":{\"tools\":[{\"id\":\"1006\"},{\"id\":\"1023\"},{\"id\":\"1024\"},{\"id\":\"1025\"},{\"id\":\"1026\"},{\"id\":\"1027\"}]},\"id\":\"1029\",\"type\":\"Toolbar\"},{\"attributes\":{},\"id\":\"1012\",\"type\":\"CategoricalScale\"},{\"attributes\":{},\"id\":\"1014\",\"type\":\"LinearScale\"},{\"attributes\":{\"fill_alpha\":{\"value\":0.2},\"fill_color\":{\"value\":\"#30a2da\"},\"hatch_alpha\":{\"value\":0.2},\"hatch_color\":{\"value\":\"#30a2da\"},\"line_alpha\":{\"value\":0.2},\"top\":{\"field\":\"average_house_value\"},\"width\":{\"value\":0.8},\"x\":{\"field\":\"neighbourhood\"}},\"id\":\"1041\",\"type\":\"VBar\"},{\"attributes\":{\"margin\":[5,5,5,5],\"name\":\"HSpacer01723\",\"sizing_mode\":\"stretch_width\"},\"id\":\"1071\",\"type\":\"Spacer\"},{\"attributes\":{},\"id\":\"1037\",\"type\":\"Selection\"},{\"attributes\":{},\"id\":\"1020\",\"type\":\"BasicTicker\"},{\"attributes\":{},\"id\":\"1047\",\"type\":\"AllLabels\"},{\"attributes\":{},\"id\":\"1017\",\"type\":\"CategoricalTicker\"},{\"attributes\":{\"axis_label\":\"Avg. House Value\",\"coordinates\":null,\"formatter\":{\"id\":\"1049\"},\"group\":null,\"major_label_policy\":{\"id\":\"1050\"},\"ticker\":{\"id\":\"1020\"}},\"id\":\"1019\",\"type\":\"LinearAxis\"}],\"root_ids\":[\"1002\"]},\"title\":\"Bokeh Application\",\"version\":\"2.4.2\"}};\n",
       "    var render_items = [{\"docid\":\"d7c33969-1694-485e-a32f-c8042e1b2991\",\"root_ids\":[\"1002\"],\"roots\":{\"1002\":\"d4a375d8-b13e-4ba9-b16e-419f8c1b2b85\"}}];\n",
       "    root.Bokeh.embed.embed_items_notebook(docs_json, render_items);\n",
       "  }\n",
       "  if (root.Bokeh !== undefined && root.Bokeh.Panel !== undefined && ( root['Plotly'] !== undefined)) {\n",
       "    embed_document(root);\n",
       "  } else {\n",
       "    var attempts = 0;\n",
       "    var timer = setInterval(function(root) {\n",
       "      if (root.Bokeh !== undefined && root.Bokeh.Panel !== undefined && (root['Plotly'] !== undefined)) {\n",
       "        clearInterval(timer);\n",
       "        embed_document(root);\n",
       "      } else if (document.readyState == \"complete\") {\n",
       "        attempts++;\n",
       "        if (attempts > 200) {\n",
       "          clearInterval(timer);\n",
       "          console.log(\"Bokeh: ERROR: Unable to run BokehJS code because BokehJS library is missing\");\n",
       "        }\n",
       "      }\n",
       "    }, 25, root)\n",
       "  }\n",
       "})(window);</script>"
      ],
      "text/plain": [
       ":Bars   [neighbourhood]   (average_house_value)"
      ]
     },
     "execution_count": 26,
     "metadata": {
      "application/vnd.holoviews_exec.v0+json": {
       "id": "1002"
      }
     },
     "output_type": "execute_result"
    }
   ],
   "source": [
    "# Plotting the data from the top 10 expensive neighbourhoods\n",
    "df_expensive_neighbourhoods.hvplot.bar(\n",
    "    \"neighbourhood\",\n",
    "    \"average_house_value\",\n",
    "    title=\"Top 10 Expensive Neighbourhoods in Toronto\",\n",
    "    xlabel=\"Neighbourhood\",\n",
    "    ylabel=\"Avg. House Value\",\n",
    "    height=500,\n",
    "    rot=90,\n",
    "    ylim=(0, 1600000)\n",
    ")"
   ]
  },
  {
   "cell_type": "markdown",
   "metadata": {},
   "source": [
    "- - - "
   ]
  },
  {
   "cell_type": "markdown",
   "metadata": {},
   "source": [
    "## Neighbourhood Map\n",
    "\n",
    "In this section, you will read in neighbourhoods location data and build an interactive map with the average house value per neighbourhood. Use a `scatter_mapbox` from Plotly express to create the visualization. Remember, you will need your Mapbox API key for this."
   ]
  },
  {
   "cell_type": "markdown",
   "metadata": {},
   "source": [
    "### Load Location Data"
   ]
  },
  {
   "cell_type": "code",
   "execution_count": 27,
   "metadata": {},
   "outputs": [
    {
     "data": {
      "text/html": [
       "<div>\n",
       "<style scoped>\n",
       "    .dataframe tbody tr th:only-of-type {\n",
       "        vertical-align: middle;\n",
       "    }\n",
       "\n",
       "    .dataframe tbody tr th {\n",
       "        vertical-align: top;\n",
       "    }\n",
       "\n",
       "    .dataframe thead th {\n",
       "        text-align: right;\n",
       "    }\n",
       "</style>\n",
       "<table border=\"1\" class=\"dataframe\">\n",
       "  <thead>\n",
       "    <tr style=\"text-align: right;\">\n",
       "      <th></th>\n",
       "      <th>neighbourhood</th>\n",
       "      <th>lat</th>\n",
       "      <th>lon</th>\n",
       "    </tr>\n",
       "  </thead>\n",
       "  <tbody>\n",
       "    <tr>\n",
       "      <th>0</th>\n",
       "      <td>Agincourt North</td>\n",
       "      <td>43.805441</td>\n",
       "      <td>-79.266712</td>\n",
       "    </tr>\n",
       "    <tr>\n",
       "      <th>1</th>\n",
       "      <td>Agincourt South-Malvern West</td>\n",
       "      <td>43.788658</td>\n",
       "      <td>-79.265612</td>\n",
       "    </tr>\n",
       "    <tr>\n",
       "      <th>2</th>\n",
       "      <td>Alderwood</td>\n",
       "      <td>43.604937</td>\n",
       "      <td>-79.541611</td>\n",
       "    </tr>\n",
       "    <tr>\n",
       "      <th>3</th>\n",
       "      <td>Annex</td>\n",
       "      <td>43.671585</td>\n",
       "      <td>-79.404001</td>\n",
       "    </tr>\n",
       "    <tr>\n",
       "      <th>4</th>\n",
       "      <td>Banbury-Don Mills</td>\n",
       "      <td>43.737657</td>\n",
       "      <td>-79.349718</td>\n",
       "    </tr>\n",
       "  </tbody>\n",
       "</table>\n",
       "</div>"
      ],
      "text/plain": [
       "                  neighbourhood        lat        lon\n",
       "0               Agincourt North  43.805441 -79.266712\n",
       "1  Agincourt South-Malvern West  43.788658 -79.265612\n",
       "2                     Alderwood  43.604937 -79.541611\n",
       "3                         Annex  43.671585 -79.404001\n",
       "4             Banbury-Don Mills  43.737657 -79.349718"
      ]
     },
     "execution_count": 27,
     "metadata": {},
     "output_type": "execute_result"
    }
   ],
   "source": [
    "# Load neighbourhoods coordinates data\n",
    "file_path = Path(\"Data/toronto_neighbourhoods_coordinates.csv\")\n",
    "df_neighbourhood_locations = pd.read_csv(file_path)\n",
    "df_neighbourhood_locations.head()"
   ]
  },
  {
   "cell_type": "markdown",
   "metadata": {},
   "source": [
    "### Data Preparation\n",
    "\n",
    "You will need to join the location data with the mean values per neighbourhood.\n",
    "\n",
    "1. Calculate the mean values for each neighbourhood.\n",
    "\n",
    "2. Join the average values with the neighbourhood locations."
   ]
  },
  {
   "cell_type": "code",
   "execution_count": 28,
   "metadata": {},
   "outputs": [
    {
     "data": {
      "text/html": [
       "<div>\n",
       "<style scoped>\n",
       "    .dataframe tbody tr th:only-of-type {\n",
       "        vertical-align: middle;\n",
       "    }\n",
       "\n",
       "    .dataframe tbody tr th {\n",
       "        vertical-align: top;\n",
       "    }\n",
       "\n",
       "    .dataframe thead th {\n",
       "        text-align: right;\n",
       "    }\n",
       "</style>\n",
       "<table border=\"1\" class=\"dataframe\">\n",
       "  <thead>\n",
       "    <tr style=\"text-align: right;\">\n",
       "      <th></th>\n",
       "      <th>neighbourhood</th>\n",
       "      <th>single_detached_house</th>\n",
       "      <th>apartment_five_storeys_plus</th>\n",
       "      <th>movable_dwelling</th>\n",
       "      <th>semi_detached_house</th>\n",
       "      <th>row_house</th>\n",
       "      <th>duplex</th>\n",
       "      <th>apartment_five_storeys_less</th>\n",
       "      <th>other_house</th>\n",
       "      <th>average_house_value</th>\n",
       "      <th>shelter_costs_owned</th>\n",
       "      <th>shelter_costs_rented</th>\n",
       "    </tr>\n",
       "  </thead>\n",
       "  <tbody>\n",
       "    <tr>\n",
       "      <th>0</th>\n",
       "      <td>Agincourt North</td>\n",
       "      <td>3435.00</td>\n",
       "      <td>1947.50</td>\n",
       "      <td>2.50</td>\n",
       "      <td>863.75</td>\n",
       "      <td>1406.25</td>\n",
       "      <td>512.50</td>\n",
       "      <td>547.50</td>\n",
       "      <td>10.00</td>\n",
       "      <td>329811.5</td>\n",
       "      <td>1109.00</td>\n",
       "      <td>983.50</td>\n",
       "    </tr>\n",
       "    <tr>\n",
       "      <th>1</th>\n",
       "      <td>Agincourt South-Malvern West</td>\n",
       "      <td>2897.50</td>\n",
       "      <td>2180.00</td>\n",
       "      <td>1.25</td>\n",
       "      <td>375.00</td>\n",
       "      <td>456.25</td>\n",
       "      <td>523.75</td>\n",
       "      <td>628.75</td>\n",
       "      <td>32.50</td>\n",
       "      <td>334189.0</td>\n",
       "      <td>1131.25</td>\n",
       "      <td>985.00</td>\n",
       "    </tr>\n",
       "    <tr>\n",
       "      <th>2</th>\n",
       "      <td>Alderwood</td>\n",
       "      <td>2903.75</td>\n",
       "      <td>302.50</td>\n",
       "      <td>1.25</td>\n",
       "      <td>503.75</td>\n",
       "      <td>76.25</td>\n",
       "      <td>302.50</td>\n",
       "      <td>502.50</td>\n",
       "      <td>1.25</td>\n",
       "      <td>427922.5</td>\n",
       "      <td>1166.75</td>\n",
       "      <td>1003.25</td>\n",
       "    </tr>\n",
       "    <tr>\n",
       "      <th>3</th>\n",
       "      <td>Annex</td>\n",
       "      <td>751.25</td>\n",
       "      <td>7235.00</td>\n",
       "      <td>1.25</td>\n",
       "      <td>1375.00</td>\n",
       "      <td>613.75</td>\n",
       "      <td>355.00</td>\n",
       "      <td>4605.00</td>\n",
       "      <td>83.75</td>\n",
       "      <td>746977.0</td>\n",
       "      <td>1692.75</td>\n",
       "      <td>1315.25</td>\n",
       "    </tr>\n",
       "    <tr>\n",
       "      <th>4</th>\n",
       "      <td>Banbury-Don Mills</td>\n",
       "      <td>3572.50</td>\n",
       "      <td>5388.75</td>\n",
       "      <td>1.25</td>\n",
       "      <td>273.75</td>\n",
       "      <td>626.25</td>\n",
       "      <td>32.50</td>\n",
       "      <td>1340.00</td>\n",
       "      <td>0.00</td>\n",
       "      <td>612039.0</td>\n",
       "      <td>1463.50</td>\n",
       "      <td>1242.75</td>\n",
       "    </tr>\n",
       "  </tbody>\n",
       "</table>\n",
       "</div>"
      ],
      "text/plain": [
       "                  neighbourhood  single_detached_house  \\\n",
       "0               Agincourt North                3435.00   \n",
       "1  Agincourt South-Malvern West                2897.50   \n",
       "2                     Alderwood                2903.75   \n",
       "3                         Annex                 751.25   \n",
       "4             Banbury-Don Mills                3572.50   \n",
       "\n",
       "   apartment_five_storeys_plus  movable_dwelling  semi_detached_house  \\\n",
       "0                      1947.50              2.50               863.75   \n",
       "1                      2180.00              1.25               375.00   \n",
       "2                       302.50              1.25               503.75   \n",
       "3                      7235.00              1.25              1375.00   \n",
       "4                      5388.75              1.25               273.75   \n",
       "\n",
       "   row_house  duplex  apartment_five_storeys_less  other_house  \\\n",
       "0    1406.25  512.50                       547.50        10.00   \n",
       "1     456.25  523.75                       628.75        32.50   \n",
       "2      76.25  302.50                       502.50         1.25   \n",
       "3     613.75  355.00                      4605.00        83.75   \n",
       "4     626.25   32.50                      1340.00         0.00   \n",
       "\n",
       "   average_house_value  shelter_costs_owned  shelter_costs_rented  \n",
       "0             329811.5              1109.00                983.50  \n",
       "1             334189.0              1131.25                985.00  \n",
       "2             427922.5              1166.75               1003.25  \n",
       "3             746977.0              1692.75               1315.25  \n",
       "4             612039.0              1463.50               1242.75  "
      ]
     },
     "execution_count": 28,
     "metadata": {},
     "output_type": "execute_result"
    }
   ],
   "source": [
    "# Calculate the mean values for each neighborhood\n",
    "df_all_neighbourhoods = to_data.groupby(by=\"neighbourhood\").mean()\n",
    "df_all_neighbourhoods = df_all_neighbourhoods.reset_index()\n",
    "df_all_neighbourhoods.head()"
   ]
  },
  {
   "cell_type": "code",
   "execution_count": 29,
   "metadata": {},
   "outputs": [
    {
     "data": {
      "text/html": [
       "<div>\n",
       "<style scoped>\n",
       "    .dataframe tbody tr th:only-of-type {\n",
       "        vertical-align: middle;\n",
       "    }\n",
       "\n",
       "    .dataframe tbody tr th {\n",
       "        vertical-align: top;\n",
       "    }\n",
       "\n",
       "    .dataframe thead th {\n",
       "        text-align: right;\n",
       "    }\n",
       "</style>\n",
       "<table border=\"1\" class=\"dataframe\">\n",
       "  <thead>\n",
       "    <tr style=\"text-align: right;\">\n",
       "      <th></th>\n",
       "      <th>neighbourhood</th>\n",
       "      <th>lat</th>\n",
       "      <th>lon</th>\n",
       "      <th>single_detached_house</th>\n",
       "      <th>apartment_five_storeys_plus</th>\n",
       "      <th>movable_dwelling</th>\n",
       "      <th>semi_detached_house</th>\n",
       "      <th>row_house</th>\n",
       "      <th>duplex</th>\n",
       "      <th>apartment_five_storeys_less</th>\n",
       "      <th>other_house</th>\n",
       "      <th>average_house_value</th>\n",
       "      <th>shelter_costs_owned</th>\n",
       "      <th>shelter_costs_rented</th>\n",
       "    </tr>\n",
       "  </thead>\n",
       "  <tbody>\n",
       "    <tr>\n",
       "      <th>0</th>\n",
       "      <td>Agincourt North</td>\n",
       "      <td>43.805441</td>\n",
       "      <td>-79.266712</td>\n",
       "      <td>3435.00</td>\n",
       "      <td>1947.50</td>\n",
       "      <td>2.50</td>\n",
       "      <td>863.75</td>\n",
       "      <td>1406.25</td>\n",
       "      <td>512.50</td>\n",
       "      <td>547.50</td>\n",
       "      <td>10.00</td>\n",
       "      <td>329811.5</td>\n",
       "      <td>1109.00</td>\n",
       "      <td>983.50</td>\n",
       "    </tr>\n",
       "    <tr>\n",
       "      <th>1</th>\n",
       "      <td>Agincourt South-Malvern West</td>\n",
       "      <td>43.788658</td>\n",
       "      <td>-79.265612</td>\n",
       "      <td>2897.50</td>\n",
       "      <td>2180.00</td>\n",
       "      <td>1.25</td>\n",
       "      <td>375.00</td>\n",
       "      <td>456.25</td>\n",
       "      <td>523.75</td>\n",
       "      <td>628.75</td>\n",
       "      <td>32.50</td>\n",
       "      <td>334189.0</td>\n",
       "      <td>1131.25</td>\n",
       "      <td>985.00</td>\n",
       "    </tr>\n",
       "    <tr>\n",
       "      <th>2</th>\n",
       "      <td>Alderwood</td>\n",
       "      <td>43.604937</td>\n",
       "      <td>-79.541611</td>\n",
       "      <td>2903.75</td>\n",
       "      <td>302.50</td>\n",
       "      <td>1.25</td>\n",
       "      <td>503.75</td>\n",
       "      <td>76.25</td>\n",
       "      <td>302.50</td>\n",
       "      <td>502.50</td>\n",
       "      <td>1.25</td>\n",
       "      <td>427922.5</td>\n",
       "      <td>1166.75</td>\n",
       "      <td>1003.25</td>\n",
       "    </tr>\n",
       "    <tr>\n",
       "      <th>3</th>\n",
       "      <td>Annex</td>\n",
       "      <td>43.671585</td>\n",
       "      <td>-79.404001</td>\n",
       "      <td>751.25</td>\n",
       "      <td>7235.00</td>\n",
       "      <td>1.25</td>\n",
       "      <td>1375.00</td>\n",
       "      <td>613.75</td>\n",
       "      <td>355.00</td>\n",
       "      <td>4605.00</td>\n",
       "      <td>83.75</td>\n",
       "      <td>746977.0</td>\n",
       "      <td>1692.75</td>\n",
       "      <td>1315.25</td>\n",
       "    </tr>\n",
       "    <tr>\n",
       "      <th>4</th>\n",
       "      <td>Banbury-Don Mills</td>\n",
       "      <td>43.737657</td>\n",
       "      <td>-79.349718</td>\n",
       "      <td>3572.50</td>\n",
       "      <td>5388.75</td>\n",
       "      <td>1.25</td>\n",
       "      <td>273.75</td>\n",
       "      <td>626.25</td>\n",
       "      <td>32.50</td>\n",
       "      <td>1340.00</td>\n",
       "      <td>0.00</td>\n",
       "      <td>612039.0</td>\n",
       "      <td>1463.50</td>\n",
       "      <td>1242.75</td>\n",
       "    </tr>\n",
       "  </tbody>\n",
       "</table>\n",
       "</div>"
      ],
      "text/plain": [
       "                  neighbourhood        lat        lon  single_detached_house  \\\n",
       "0               Agincourt North  43.805441 -79.266712                3435.00   \n",
       "1  Agincourt South-Malvern West  43.788658 -79.265612                2897.50   \n",
       "2                     Alderwood  43.604937 -79.541611                2903.75   \n",
       "3                         Annex  43.671585 -79.404001                 751.25   \n",
       "4             Banbury-Don Mills  43.737657 -79.349718                3572.50   \n",
       "\n",
       "   apartment_five_storeys_plus  movable_dwelling  semi_detached_house  \\\n",
       "0                      1947.50              2.50               863.75   \n",
       "1                      2180.00              1.25               375.00   \n",
       "2                       302.50              1.25               503.75   \n",
       "3                      7235.00              1.25              1375.00   \n",
       "4                      5388.75              1.25               273.75   \n",
       "\n",
       "   row_house  duplex  apartment_five_storeys_less  other_house  \\\n",
       "0    1406.25  512.50                       547.50        10.00   \n",
       "1     456.25  523.75                       628.75        32.50   \n",
       "2      76.25  302.50                       502.50         1.25   \n",
       "3     613.75  355.00                      4605.00        83.75   \n",
       "4     626.25   32.50                      1340.00         0.00   \n",
       "\n",
       "   average_house_value  shelter_costs_owned  shelter_costs_rented  \n",
       "0             329811.5              1109.00                983.50  \n",
       "1             334189.0              1131.25                985.00  \n",
       "2             427922.5              1166.75               1003.25  \n",
       "3             746977.0              1692.75               1315.25  \n",
       "4             612039.0              1463.50               1242.75  "
      ]
     },
     "execution_count": 29,
     "metadata": {},
     "output_type": "execute_result"
    }
   ],
   "source": [
    "# Join the average values with the neighbourhood locations\n",
    "df_all_neighbourhoods = pd.merge(\n",
    "    df_neighbourhood_locations, df_all_neighbourhoods, on=\"neighbourhood\"\n",
    ")\n",
    "df_all_neighbourhoods.head()"
   ]
  },
  {
   "cell_type": "markdown",
   "metadata": {},
   "source": [
    "### Mapbox Visualization\n",
    "\n",
    "Plot the average values per neighbourhood using a Plotly express `scatter_mapbox` visualization."
   ]
  },
  {
   "cell_type": "code",
   "execution_count": 31,
   "metadata": {},
   "outputs": [
    {
     "data": {
      "application/vnd.plotly.v1+json": {
       "config": {
        "plotlyServerURL": "https://plot.ly"
       },
       "data": [
        {
         "customdata": [
          [
           1109,
           983.5,
           3435,
           1947.5,
           2.5,
           863.75,
           1406.25,
           512.5,
           547.5,
           10
          ],
          [
           1131.25,
           985,
           2897.5,
           2180,
           1.25,
           375,
           456.25,
           523.75,
           628.75,
           32.5
          ],
          [
           1166.75,
           1003.25,
           2903.75,
           302.5,
           1.25,
           503.75,
           76.25,
           302.5,
           502.5,
           1.25
          ],
          [
           1692.75,
           1315.25,
           751.25,
           7235,
           1.25,
           1375,
           613.75,
           355,
           4605,
           83.75
          ],
          [
           1463.5,
           1242.75,
           3572.5,
           5388.75,
           1.25,
           273.75,
           626.25,
           32.5,
           1340,
           0
          ],
          [
           1307,
           1059.5,
           2131.25,
           1815,
           0,
           151.25,
           70,
           677.5,
           973.75,
           8.75
          ],
          [
           1494.5,
           1436.75,
           3.75,
           10470,
           0,
           1.25,
           18.75,
           1.25,
           271.25,
           2.5
          ],
          [
           1512.75,
           1422,
           2101.25,
           3222.5,
           2.5,
           141.25,
           830,
           70,
           500,
           2.5
          ],
          [
           1364.25,
           1399.5,
           1585,
           1700,
           0,
           580,
           175,
           86.25,
           522.5,
           1.25
          ],
          [
           1786.75,
           1255,
           4865,
           1981.25,
           0,
           43.75,
           57.5,
           287.5,
           1275,
           88.75
          ],
          [
           1029.25,
           797.5,
           686.25,
           671.25,
           0,
           70,
           16.25,
           97.5,
           1060,
           3.75
          ],
          [
           1151.25,
           994.5,
           3993.75,
           3582.5,
           2.5,
           323.75,
           258.75,
           921.25,
           330,
           10
          ],
          [
           1228.75,
           918.75,
           5045,
           920,
           0,
           418.75,
           47.5,
           781.25,
           1957.5,
           26.25
          ],
          [
           1011.75,
           864.5,
           732.5,
           4356.25,
           0,
           685,
           1116.25,
           113.75,
           238.75,
           2.5
          ],
          [
           1359.25,
           897.75,
           526.25,
           491.25,
           0,
           810,
           380,
           151.25,
           748.75,
           25
          ],
          [
           1304.25,
           1030.25,
           1713.75,
           2401.25,
           0,
           150,
           37.5,
           351.25,
           1035,
           5
          ],
          [
           2360.75,
           2321.75,
           2260,
           331.25,
           0,
           36.25,
           90,
           25,
           40,
           0
          ],
          [
           1320.25,
           1007.75,
           880,
           3213.75,
           0,
           448.75,
           81.25,
           112.5,
           793.75,
           1.25
          ],
          [
           1151.25,
           932.5,
           1775,
           3568.75,
           0,
           255,
           8.75,
           108.75,
           501.25,
           6.25
          ],
          [
           1479.25,
           1072.25,
           268.75,
           3322.5,
           0,
           451.25,
           615,
           127.5,
           1422.5,
           12.5
          ],
          [
           1239.25,
           989,
           1757.5,
           166.25,
           0,
           421.25,
           18.75,
           371.25,
           853.75,
           5
          ],
          [
           1873.75,
           1547.75,
           916.25,
           2310,
           0,
           288.75,
           201.25,
           162.5,
           1192.5,
           2.5
          ],
          [
           1331.5,
           1148.75,
           3341.25,
           0,
           2.5,
           166.25,
           420,
           125,
           40,
           5
          ],
          [
           1539,
           1202.75,
           28.75,
           15042.5,
           1.25,
           32.5,
           231.25,
           38.75,
           1337.5,
           27.5
          ],
          [
           1241,
           952,
           3223.75,
           1746.25,
           2.5,
           890,
           525,
           563.75,
           1020,
           28.75
          ],
          [
           1394.25,
           1024,
           2480,
           1352.5,
           6.25,
           11.25,
           12.5,
           517.5,
           1256.25,
           15
          ],
          [
           1227.5,
           911.25,
           3407.5,
           1317.5,
           1.25,
           63.75,
           342.5,
           372.5,
           147.5,
           43.75
          ],
          [
           1217.5,
           986.75,
           1451.25,
           3.75,
           0,
           1375,
           103.75,
           482.5,
           1811.25,
           35
          ],
          [
           1343.25,
           930.75,
           708.75,
           337.5,
           0,
           1350,
           33.75,
           197.5,
           1275,
           30
          ],
          [
           1265,
           982,
           3001.25,
           778.75,
           0,
           1721.25,
           32.5,
           512.5,
           856.25,
           30
          ],
          [
           1246.25,
           1117.75,
           2155,
           5256.25,
           1.25,
           397.5,
           1438.75,
           120,
           247.5,
           2.5
          ],
          [
           1152.25,
           953.5,
           2106.25,
           3743.75,
           0,
           326.25,
           1318.75,
           405,
           413.75,
           3.75
          ],
          [
           1231.25,
           1003.25,
           1901.25,
           1666.25,
           2.5,
           2683.75,
           927.5,
           867.5,
           5661.25,
           105
          ],
          [
           1096,
           928,
           4328.75,
           3183.75,
           2.5,
           893.75,
           535,
           330,
           3415,
           15
          ],
          [
           1303.5,
           1063.25,
           402.5,
           1235,
           0,
           713.75,
           112.5,
           296.25,
           2322.5,
           35
          ],
          [
           1498.5,
           970.25,
           1835,
           2061.25,
           2.5,
           1973.75,
           445,
           460,
           2093.75,
           40
          ],
          [
           1524.75,
           1194.25,
           2570,
           2071.25,
           0,
           90,
           131.25,
           43.75,
           1043.75,
           1.25
          ],
          [
           1103.5,
           907.25,
           1637.5,
           5045,
           0,
           108.75,
           403.75,
           481.25,
           251.25,
           6.25
          ],
          [
           1202.25,
           998.5,
           1036.25,
           1377.5,
           0,
           75,
           476.25,
           153.75,
           50,
           0
          ],
          [
           1344.25,
           987,
           2052.5,
           2722.5,
           0,
           27.5,
           262.5,
           423.75,
           2502.5,
           7.5
          ],
          [
           1202.75,
           1103,
           3951.25,
           1742.5,
           0,
           326.25,
           553.75,
           93.75,
           70,
           6.25
          ],
          [
           1162.25,
           1071.25,
           987.5,
           2772.5,
           0,
           96.25,
           222.5,
           45,
           56.25,
           10
          ],
          [
           1199.75,
           973,
           5,
           6368.75,
           0,
           182.5,
           630,
           3.75,
           591.25,
           0
          ],
          [
           1722.75,
           1245.5,
           1488.75,
           3392.5,
           0,
           12.5,
           16.25,
           82.5,
           402.5,
           1.25
          ],
          [
           1781,
           1313.75,
           1742.5,
           2031.25,
           1.25,
           61.25,
           45,
           75,
           1027.5,
           3.75
          ],
          [
           1080,
           860.5,
           441.25,
           3413.75,
           0,
           3538.75,
           1322.5,
           298.75,
           923.75,
           6.25
          ],
          [
           1255.75,
           910.5,
           1077.5,
           517.5,
           1.25,
           1718.75,
           371.25,
           275,
           2082.5,
           12.5
          ],
          [
           1208.25,
           1084.5,
           2213.75,
           1082.5,
           0,
           116.25,
           296.25,
           122.5,
           100,
           1.25
          ],
          [
           1370.75,
           1178.5,
           500,
           3558.75,
           0,
           15,
           496.25,
           11.25,
           30,
           1.25
          ],
          [
           1456.75,
           1183,
           1442.5,
           6020,
           0,
           617.5,
           118.75,
           487.5,
           1891.25,
           13.75
          ],
          [
           1482.75,
           1129.75,
           2782.5,
           2507.5,
           1.25,
           520,
           202.5,
           692.5,
           3066.25,
           20
          ],
          [
           1245,
           967,
           3125,
           1.25,
           1.25,
           3.75,
           10,
           470,
           23.75,
           0
          ],
          [
           1115.25,
           765.75,
           1696.25,
           1950,
           0,
           900,
           1085,
           140,
           670,
           0
          ],
          [
           1210,
           1055.5,
           1727.5,
           1958.75,
           1.25,
           58.75,
           58.75,
           133.75,
           153.75,
           1.25
          ],
          [
           1121.25,
           935.5,
           503.75,
           720,
           1.25,
           2031.25,
           101.25,
           85,
           375,
           0
          ],
          [
           1158.5,
           988,
           583.75,
           1568.75,
           0,
           1333.75,
           267.5,
           68.75,
           990,
           1.25
          ],
          [
           1575.75,
           1094,
           1885,
           1700,
           0,
           258.75,
           6.25,
           160,
           2495,
           1.25
          ],
          [
           1116.75,
           902.25,
           1110,
           2858.75,
           0,
           380,
           138.75,
           285,
           205,
           75
          ],
          [
           1338.25,
           1109.25,
           5206.25,
           8633.75,
           0,
           127.5,
           448.75,
           207.5,
           666.25,
           5
          ],
          [
           1381.5,
           1085,
           822.5,
           348.75,
           0,
           952.5,
           526.25,
           563.75,
           2218.75,
           20
          ],
          [
           1126.25,
           855.25,
           1787.5,
           511.25,
           2.5,
           380,
           11.25,
           385,
           943.75,
           1.25
          ],
          [
           1083.75,
           805.25,
           1785,
           2852.5,
           1.25,
           436.25,
           122.5,
           581.25,
           667.5,
           61.25
          ],
          [
           1390.75,
           1071.5,
           118.75,
           4041.25,
           1.25,
           328.75,
           761.25,
           135,
           2663.75,
           78.75
          ],
          [
           1136.5,
           1046,
           2197.5,
           4758.75,
           0,
           137.5,
           307.5,
           148.75,
           200,
           1.25
          ],
          [
           1736.75,
           1622,
           2326.25,
           576.25,
           0,
           66.25,
           48.75,
           20,
           336.25,
           2.5
          ],
          [
           1448,
           945.75,
           1285,
           692.5,
           0,
           548.75,
           145,
           86.25,
           362.5,
           2.5
          ],
          [
           1135.25,
           948,
           3731.25,
           6731.25,
           0,
           1032.5,
           2441.25,
           340,
           645,
           10
          ],
          [
           1588.5,
           1360.25,
           2447.5,
           2508.75,
           1.25,
           42.5,
           0,
           153.75,
           592.5,
           12.5
          ],
          [
           1769.75,
           1372.75,
           3196.25,
           201.25,
           0,
           871.25,
           23.75,
           177.5,
           1008.75,
           1.25
          ],
          [
           1954,
           1372.75,
           3472.5,
           773.75,
           0,
           126.25,
           38.75,
           225,
           966.25,
           16.25
          ],
          [
           1664.25,
           1250.5,
           3601.25,
           548.75,
           0,
           791.25,
           75,
           47.5,
           1421.25,
           8.75
          ],
          [
           1294.75,
           1043.5,
           343.75,
           1097.5,
           0,
           666.25,
           658.75,
           212.5,
           2560,
           38.75
          ],
          [
           1315.75,
           993.5,
           1513.75,
           960,
           0,
           76.25,
           85,
           216.25,
           1696.25,
           15
          ],
          [
           1228,
           998.75,
           3693.75,
           2982.5,
           0,
           1317.5,
           3410,
           878.75,
           552.5,
           55
          ],
          [
           1089,
           949.25,
           1690,
           861.25,
           2.5,
           167.5,
           97.5,
           151.25,
           595,
           3.75
          ],
          [
           1250.5,
           1117.5,
           1788.75,
           2010,
           0,
           6.25,
           270,
           81.25,
           108.75,
           2.5
          ],
          [
           1101.25,
           951,
           3910,
           1948.75,
           0,
           550,
           605,
           395,
           95,
           22.5
          ],
          [
           1429.25,
           1084.5,
           2406.25,
           6996.25,
           1.25,
           266.25,
           766.25,
           407.5,
           2966.25,
           18.75
          ],
          [
           1199.25,
           917.75,
           2256.25,
           2105,
           1.25,
           27.5,
           880,
           255,
           211.25,
           2.5
          ],
          [
           1477,
           938.5,
           110,
           5908.75,
           0,
           167.5,
           630,
           106.25,
           1973.75,
           23.75
          ],
          [
           1244.75,
           957.25,
           1028.75,
           2238.75,
           0,
           138.75,
           302.5,
           176.25,
           912.5,
           2.5
          ],
          [
           1159.5,
           955.25,
           1730,
           5916.25,
           1.25,
           176.25,
           1033.75,
           603.75,
           127.5,
           1.25
          ],
          [
           1665.5,
           1205.75,
           2225,
           2008.75,
           1.25,
           1611.25,
           146.25,
           170,
           1066.25,
           97.5
          ],
          [
           1566.75,
           1219.75,
           503.75,
           13042.5,
           6.25,
           193.75,
           237.5,
           96.25,
           1877.5,
           21.25
          ],
          [
           1227,
           865.5,
           1601.25,
           1091.25,
           1.25,
           205,
           203.75,
           188.75,
           1763.75,
           3.75
          ],
          [
           1440.75,
           1230,
           2906.25,
           2403.75,
           1.25,
           8.75,
           35,
           265,
           302.5,
           0
          ],
          [
           1271,
           1139.25,
           2696.25,
           3677.5,
           0,
           631.25,
           500,
           273.75,
           392.5,
           1.25
          ],
          [
           1630.25,
           1343.75,
           52.5,
           8266.25,
           0,
           142.5,
           857.5,
           232.5,
           1683.75,
           17.5
          ],
          [
           1490.75,
           1134.5,
           875,
           667.5,
           0,
           1391.25,
           236.25,
           262.5,
           1575,
           31.25
          ],
          [
           1539.75,
           1015.5,
           15,
           8233.75,
           1.25,
           22.5,
           80,
           17.5,
           513.75,
           6.25
          ],
          [
           1038.25,
           785.5,
           1142.5,
           3193.75,
           0,
           150,
           206.25,
           300,
           217.5,
           15
          ],
          [
           1221.25,
           937.5,
           3000,
           1600,
           0,
           1282.5,
           31.25,
           667.5,
           2055,
           21.25
          ],
          [
           1263.25,
           939,
           3033.75,
           2320,
           1.25,
           127.5,
           118.75,
           293.75,
           1487.5,
           6.25
          ],
          [
           1204.5,
           993.75,
           2313.75,
           528.75,
           0,
           170,
           0,
           358.75,
           423.75,
           12.5
          ],
          [
           1390,
           1201.5,
           458.75,
           263.75,
           1.25,
           1150,
           298.75,
           240,
           3713.75,
           66.25
          ],
          [
           1276,
           1125,
           2567.5,
           6465,
           1.25,
           1445,
           1365,
           83.75,
           1157.5,
           5
          ],
          [
           1096,
           1012,
           1795,
           420,
           0,
           321.25,
           120,
           281.25,
           142.5,
           5
          ],
          [
           1701.5,
           1198.25,
           720,
           931.25,
           0,
           652.5,
           62.5,
           201.25,
           1000,
           17.5
          ],
          [
           1175.75,
           1072,
           1026.25,
           1467.5,
           0,
           1978.75,
           272.5,
           71.25,
           676.25,
           6.25
          ],
          [
           1509.75,
           1239.75,
           3298.75,
           445,
           0,
           2.5,
           41.25,
           47.5,
           10,
           2.5
          ],
          [
           1464.75,
           815.25,
           15,
           2506.25,
           0,
           57.5,
           577.5,
           8.75,
           911.25,
           16.25
          ],
          [
           1127.5,
           900.5,
           1886.25,
           635,
           0,
           36.25,
           451.25,
           326.25,
           552.5,
           0
          ],
          [
           1134,
           867.5,
           2902.5,
           3225,
           1.25,
           1081.25,
           233.75,
           381.25,
           1043.75,
           0
          ],
          [
           1446,
           1037,
           843.75,
           1635,
           10,
           1148.75,
           356.25,
           390,
           2278.75,
           53.75
          ],
          [
           1909.75,
           1537.25,
           2498.75,
           4641.25,
           0,
           486.25,
           245,
           327.5,
           1618.75,
           2.5
          ],
          [
           1395.25,
           1130,
           6937.5,
           936.25,
           0,
           975,
           1621.25,
           732.5,
           608.75,
           6.25
          ],
          [
           1462.25,
           1147,
           2058.75,
           1.25,
           0,
           760,
           47.5,
           261.25,
           683.75,
           7.5
          ],
          [
           1032.75,
           791.75,
           1168.75,
           1945,
           0,
           198.75,
           2.5,
           71.25,
           208.75,
           3.75
          ],
          [
           1214.5,
           903.75,
           1081.25,
           3948.75,
           0,
           32.5,
           206.25,
           138.75,
           320,
           0
          ],
          [
           1599.25,
           1019.5,
           337.5,
           6557.5,
           5,
           243.75,
           278.75,
           192.5,
           2968.75,
           12.5
          ],
          [
           1416.75,
           971,
           1005,
           1012.5,
           3.75,
           2686.25,
           1566.25,
           467.5,
           3823.75,
           85
          ],
          [
           1880.25,
           1384.5,
           3225,
           1670,
           0,
           185,
           552.5,
           97.5,
           586.25,
           5
          ],
          [
           1153.25,
           1125.75,
           3711.25,
           2592.5,
           1.25,
           190,
           558.75,
           275,
           257.5,
           0
          ],
          [
           1288,
           1041.25,
           5872.5,
           867.5,
           0,
           93.75,
           357.5,
           222.5,
           2788.75,
           6.25
          ],
          [
           1105,
           973.75,
           3168.75,
           4542.5,
           0,
           170,
           891.25,
           477.5,
           408.75,
           10
          ],
          [
           1129.25,
           919.25,
           622.5,
           4795,
           0,
           203.75,
           216.25,
           150,
           218.75,
           15
          ],
          [
           1707,
           1257.75,
           2642.5,
           488.75,
           1.25,
           1543.75,
           285,
           461.25,
           3770,
           23.75
          ],
          [
           1193.75,
           938.5,
           1682.5,
           666.25,
           0,
           322.5,
           52.5,
           253.75,
           237.5,
           3.75
          ],
          [
           1304.25,
           1088.5,
           3.75,
           6318.75,
           0,
           0,
           141.25,
           0,
           187.5,
           5
          ],
          [
           1373.75,
           1160,
           442.5,
           178.75,
           0,
           1023.75,
           1027.5,
           460,
           3310,
           168.75
          ],
          [
           1447.25,
           1263,
           155,
           830,
           0,
           301.25,
           321.25,
           146.25,
           1252.5,
           46.25
          ],
          [
           1162.25,
           916.25,
           1256.25,
           3150,
           0,
           315,
           308.75,
           130,
           2002.5,
           11.25
          ],
          [
           1655.5,
           1438.75,
           267.5,
           21913.75,
           2.5,
           68.75,
           528.75,
           31.25,
           667.5,
           15
          ],
          [
           1071.5,
           761.25,
           3250,
           3441.25,
           0,
           475,
           1252.5,
           576.25,
           575,
           16.25
          ],
          [
           1215.25,
           986.25,
           4381.25,
           1725,
           0,
           273.75,
           1341.25,
           1345,
           505,
           2.5
          ],
          [
           1319.5,
           1121.5,
           846.25,
           7665,
           0,
           642.5,
           400,
           117.5,
           277.5,
           12.5
          ],
          [
           1188.75,
           927.75,
           1742.5,
           4387.5,
           0,
           216.25,
           142.5,
           193.75,
           768.75,
           5
          ],
          [
           1150.25,
           804.5,
           650,
           553.75,
           1.25,
           1342.5,
           307.5,
           186.25,
           1135,
           21.25
          ],
          [
           1092.5,
           926.5,
           5482.5,
           1810,
           2.5,
           13.75,
           251.25,
           1313.75,
           1090,
           10
          ],
          [
           1484.75,
           1424,
           3533.75,
           11598.75,
           6.25,
           63.75,
           736.25,
           205,
           1378.75,
           10
          ],
          [
           1369.75,
           1149.75,
           2178.75,
           3253.75,
           1.25,
           143.75,
           133.75,
           251.25,
           202.5,
           0
          ],
          [
           1181.75,
           1109.75,
           3647.5,
           3373.75,
           0,
           531.25,
           277.5,
           183.75,
           42.5,
           0
          ],
          [
           1112,
           884.25,
           6623.75,
           8898.75,
           1.25,
           326.25,
           241.25,
           1417.5,
           430,
           7.5
          ],
          [
           1393,
           909,
           898.75,
           577.5,
           0,
           1646.25,
           253.75,
           161.25,
           1721.25,
           23.75
          ],
          [
           1256,
           906.5,
           1938.75,
           633.75,
           0,
           323.75,
           21.25,
           257.5,
           303.75,
           7.5
          ],
          [
           1390.75,
           1017.25,
           1056.25,
           1236.25,
           0,
           992.5,
           298.75,
           325,
           1878.75,
           17.5
          ],
          [
           1799.5,
           1347.75,
           1468.75,
           1638.75,
           0,
           470,
           33.75,
           328.75,
           1385,
           6.25
          ],
          [
           1680.75,
           1369,
           565,
           3948.75,
           0,
           425,
           212.5,
           172.5,
           1308.75,
           6.25
          ],
          [
           1116.75,
           937.5,
           1355,
           5165,
           1.25,
           1316.25,
           662.5,
           188.75,
           1085,
           33.75
          ],
          [
           1122.5,
           942.5,
           2286.25,
           1347.5,
           0,
           73.75,
           450,
           377.5,
           722.5,
           7.5
          ]
         ],
         "hovertemplate": "<b>%{hovertext}</b><br><br>average_house_value=%{marker.color}<br>lat=%{lat}<br>lon=%{lon}<br>shelter_costs_owned=%{customdata[0]}<br>shelter_costs_rented=%{customdata[1]}<br>single_detached_house=%{customdata[2]}<br>apartment_five_storeys_plus=%{customdata[3]}<br>movable_dwelling=%{customdata[4]}<br>semi_detached_house=%{customdata[5]}<br>row_house=%{customdata[6]}<br>duplex=%{customdata[7]}<br>apartment_five_storeys_less=%{customdata[8]}<br>other_house=%{customdata[9]}<extra></extra>",
         "hovertext": [
          "Agincourt North",
          "Agincourt South-Malvern West",
          "Alderwood",
          "Annex",
          "Banbury-Don Mills",
          "Bathurst Manor",
          "Bay Street Corridor",
          "Bayview Village",
          "Bayview Woods-Steeles",
          "Bedford Park-Nortown",
          "Beechborough-Greenbrook",
          "Bendale",
          "Birchcliffe-Cliffside",
          "Black Creek",
          "Blake-Jones",
          "Briar Hill-Belgravia",
          "Bridle Path-Sunnybrook-York Mills",
          "Broadview North",
          "Brookhaven-Amesbury",
          "Cabbagetown-South St.James Town",
          "Caledonia-Fairbank",
          "Casa Loma",
          "Centennial Scarborough",
          "Church-Yonge Corridor",
          "Clairlea-Birchmount",
          "Clanton Park",
          "Cliffcrest",
          "Corso Italia-Davenport",
          "Danforth",
          "Danforth-East York",
          "Don Valley Village",
          "Dorset Park",
          "Dovercourt-Wallace Emerson-Juncti",
          "Downsview-Roding-CFB",
          "Dufferin Grove",
          "East End-Danforth",
          "Edenbridge-Humber Valley",
          "Eglinton East",
          "Elms-Old Rexdale",
          "Englemount-Lawrence",
          "Eringate-Centennial-West Deane",
          "Etobicoke West Mall",
          "Flemingdon Park",
          "Forest Hill North",
          "Forest Hill South",
          "Glenfield-Jane Heights",
          "Greenwood-Coxwell",
          "Guildwood",
          "Henry Farm",
          "High Park North",
          "High Park-Swansea",
          "Highland Creek",
          "Hillcrest Village",
          "Humber Heights-Westmount",
          "Humber Summit",
          "Humbermede",
          "Humewood-Cedarvale",
          "Ionview",
          "Islington-City Centre West",
          "Junction Area",
          "Keelesdale-Eglinton West",
          "Kennedy Park",
          "Kensington-Chinatown",
          "Kingsview Village-The Westway",
          "Kingsway South",
          "L'Amoreaux",
          "Lambton Baby Point",
          "Lansing-Westgate",
          "Lawrence Park North",
          "Lawrence Park South",
          "Leaside-Bennington",
          "Little Portugal",
          "Long Branch",
          "Malvern",
          "Maple Leaf",
          "Markland Wood",
          "Milliken",
          "Mimico",
          "Morningside",
          "Moss Park",
          "Mount Dennis",
          "Mount Olive-Silverstone-Jamestown",
          "Mount Pleasant East",
          "Mount Pleasant West",
          "New Toronto",
          "Newtonbrook East",
          "Newtonbrook West",
          "Niagara",
          "North Riverdale",
          "North St.James Town",
          "O'Connor-Parkview",
          "Oakridge",
          "Oakwood Village",
          "Old East York",
          "Palmerston-Little Italy",
          "Parkwoods-Donalda",
          "Pelmo Park-Humberlea",
          "Playter Estates-Danforth",
          "Pleasant View",
          "Princess-Rosethorn",
          "Regent Park",
          "Rexdale-Kipling",
          "Rockcliffe-Smythe",
          "Roncesvalles",
          "Rosedale-Moore Park",
          "Rouge",
          "Runnymede-Bloor West Village",
          "Rustic",
          "Scarborough Village",
          "South Parkdale",
          "South Riverdale",
          "St.Andrew-Windfields",
          "Steeles",
          "Stonegate-Queensway",
          "Tam O'Shanter-Sullivan",
          "Taylor-Massey",
          "The Beaches",
          "Thistletown-Beaumond Heights",
          "Thorncliffe Park",
          "Trinity-Bellwoods",
          "University",
          "Victoria Village",
          "Waterfront Communities-The Island",
          "West Hill",
          "West Humber-Clairville",
          "Westminster-Branson",
          "Weston",
          "Weston-Pellam Park",
          "Wexford/Maryvale",
          "Willowdale East",
          "Willowdale West",
          "Willowridge-Martingrove-Richview",
          "Woburn",
          "Woodbine Corridor",
          "Woodbine-Lumsden",
          "Wychwood",
          "Yonge-Eglinton",
          "Yonge-St.Clair",
          "York University Heights",
          "Yorkdale-Glen Park"
         ],
         "lat": [
          43.80544058,
          43.78865755,
          43.6049369,
          43.67158544,
          43.737657,
          43.76481331,
          43.65751135,
          43.77636052,
          43.79680187,
          43.73148623,
          43.69321649,
          43.76036631,
          43.69468198,
          43.76489025,
          43.67617288,
          43.69902438,
          43.73101314,
          43.68882512,
          43.70132631,
          43.66764773,
          43.68856865,
          43.6818521,
          43.7823765,
          43.65964886,
          43.71359238,
          43.74197843,
          43.72112117,
          43.67766091,
          43.68402547,
          43.68946809,
          43.78329369,
          43.75927437,
          43.66567693,
          43.73329235,
          43.65542833,
          43.68417388,
          43.67088591,
          43.7409223,
          43.72151887,
          43.72034467,
          43.65801676,
          43.64506262,
          43.71592975,
          43.70421756,
          43.69452576,
          43.74563575,
          43.67261231,
          43.74882934,
          43.77114414,
          43.65756491,
          43.64506458,
          43.79077477,
          43.80298783,
          43.6922328,
          43.75891975,
          43.74342952,
          43.69136981,
          43.73536441,
          43.63346335,
          43.66788977,
          43.68572747,
          43.72555572,
          43.65355413,
          43.69899257,
          43.65352043,
          43.79571603,
          43.65742013,
          43.75427115,
          43.73006017,
          43.7172117,
          43.70379663,
          43.64753593,
          43.59236169,
          43.8036582,
          43.71557394,
          43.63354175,
          43.82069079,
          43.61592386,
          43.78239861,
          43.65651762,
          43.68814409,
          43.7468678,
          43.70485217,
          43.70443517,
          43.6005886,
          43.79153579,
          43.78582994,
          43.63668088,
          43.67199515,
          43.66962341,
          43.70680049,
          43.69740813,
          43.68856556,
          43.69678127,
          43.6591571,
          43.75503347,
          43.7175146,
          43.67970047,
          43.78698176,
          43.6660506,
          43.65999214,
          43.72372548,
          43.67479045,
          43.64612299,
          43.68282043,
          43.82120126,
          43.65926882,
          43.71160912,
          43.73865186,
          43.63669952,
          43.64929206,
          43.75624583,
          43.81295883,
          43.63551813,
          43.78012985,
          43.69499819,
          43.67104999,
          43.73798792,
          43.70774921,
          43.6501763,
          43.6625062,
          43.72848902,
          43.63388036,
          43.76749026,
          43.7161804,
          43.77881322,
          43.70271605,
          43.67396204,
          43.74857214,
          43.77060226,
          43.77121049,
          43.68364496,
          43.76674024,
          43.67677292,
          43.69410674,
          43.67691927,
          43.70468937,
          43.68785887,
          43.76573649,
          43.71467153
         ],
         "legendgroup": "",
         "lon": [
          -79.26671217,
          -79.2656118,
          -79.54161093,
          -79.40400062,
          -79.34971798,
          -79.45605516,
          -79.38572125,
          -79.37711686,
          -79.38211795,
          -79.42022735,
          -79.47947251,
          -79.25740037,
          -79.26509259,
          -79.52197932,
          -79.33739417,
          -79.4528513,
          -79.37890418,
          -79.35562951,
          -79.48558926,
          -79.36610666,
          -79.45521208,
          -79.40800665,
          -79.15084327,
          -79.37901717,
          -79.28138178,
          -79.44630258,
          -79.23552957,
          -79.44746933,
          -79.32981941,
          -79.33140338,
          -79.35364413,
          -79.27890794,
          -79.4385407,
          -79.49049735,
          -79.43734104,
          -79.29935867,
          -79.52245776,
          -79.24559804,
          -79.54898272,
          -79.43740855,
          -79.58044524,
          -79.56893877,
          -79.33264597,
          -79.42814316,
          -79.41431786,
          -79.51346532,
          -79.32431802,
          -79.19505535,
          -79.34124067,
          -79.46630217,
          -79.46787222,
          -79.17747247,
          -79.354804,
          -79.5224162,
          -79.55617474,
          -79.54236712,
          -79.42768335,
          -79.27247049,
          -79.54331654,
          -79.47143987,
          -79.47143711,
          -79.26038221,
          -79.39723988,
          -79.54786331,
          -79.5105768,
          -79.31408424,
          -79.49604526,
          -79.42474772,
          -79.40397836,
          -79.40603941,
          -79.36607234,
          -79.43032271,
          -79.53334545,
          -79.22251662,
          -79.48075802,
          -79.57343155,
          -79.27500892,
          -79.50013664,
          -79.20704119,
          -79.36729703,
          -79.49998906,
          -79.58725926,
          -79.38492395,
          -79.39335955,
          -79.51035809,
          -79.40593745,
          -79.43142151,
          -79.4124204,
          -79.35126041,
          -79.37524658,
          -79.31222777,
          -79.27970834,
          -79.43978548,
          -79.33548836,
          -79.41840873,
          -79.33017952,
          -79.5282822,
          -79.35488729,
          -79.33494843,
          -79.54455929,
          -79.36050881,
          -79.56622841,
          -79.49442045,
          -79.44299245,
          -79.3796694,
          -79.18634345,
          -79.48570818,
          -79.49809147,
          -79.21681262,
          -79.43933783,
          -79.33565132,
          -79.37903709,
          -79.32120701,
          -79.50112821,
          -79.30291871,
          -79.29590112,
          -79.2996013,
          -79.56349102,
          -79.34998361,
          -79.41534216,
          -79.40117975,
          -79.31487383,
          -79.37720231,
          -79.17667603,
          -79.59635645,
          -79.45241823,
          -79.51572255,
          -79.46024391,
          -79.29863657,
          -79.40148379,
          -79.4275578,
          -79.55422105,
          -79.22858577,
          -79.31540738,
          -79.31116353,
          -79.42551495,
          -79.40359017,
          -79.39787077,
          -79.48888293,
          -79.45710807
         ],
         "marker": {
          "color": [
           329811.5,
           334189,
           427922.5,
           746977,
           612039,
           501576.75,
           423653.5,
           539258.75,
           565413.5,
           930415.25,
           370927.75,
           301123.25,
           437315,
           260841.75,
           511437,
           365524.5,
           1526485.75,
           443373.25,
           350943,
           494110.5,
           361714.25,
           981064.25,
           409862.75,
           406117.5,
           354555.25,
           551561.25,
           417422,
           419930.5,
           466943,
           421679.25,
           398010.25,
           262000.25,
           434699.5,
           381415.5,
           457588.75,
           478054.25,
           796162.5,
           268966.5,
           268341.25,
           568936.75,
           397781.75,
           309412,
           207799,
           851680.5,
           1195992.5,
           327597.75,
           387055.5,
           369373.5,
           369958,
           532497,
           582977.75,
           428838.5,
           395023,
           449150.5,
           352082.5,
           319783.75,
           697085.5,
           287685.75,
           451685.25,
           433269.25,
           322774.75,
           287233.5,
           440485.75,
           338344.75,
           843234.25,
           650307.75,
           336617.75,
           613216.5,
           759392.5,
           1094027.75,
           806471.75,
           540192.5,
           385830.25,
           256880.25,
           453229,
           443974.75,
           344988.25,
           393490.5,
           285013.5,
           409456,
           262308.75,
           253182.25,
           677370.25,
           468181.75,
           407812,
           559573.25,
           460568.5,
           369993,
           703063.25,
           411455.75,
           298315.75,
           422257.5,
           441202.75,
           443413.5,
           622191.75,
           454652.5,
           405431.25,
           648859.25,
           373375.25,
           765746.5,
           392578.25,
           360999.25,
           345660.25,
           508937.25,
           1093640,
           376286.75,
           552082,
           431090.5,
           329835.75,
           447478.5,
           455020.5,
           999107,
           376014.5,
           550432.25,
           353926.5,
           239414,
           666306,
           375864,
           255264.75,
           534465.75,
           618316.75,
           352133,
           376863,
           284647.5,
           343254.25,
           349320.25,
           308007.75,
           351802,
           348319.25,
           469045.5,
           466134.75,
           464278,
           298505.75,
           445382.75,
           369918.5,
           565976.5,
           809745.75,
           813220.25,
           305899.5,
           430861.25
          ],
          "coloraxis": "coloraxis",
          "size": [
           329811.5,
           334189,
           427922.5,
           746977,
           612039,
           501576.75,
           423653.5,
           539258.75,
           565413.5,
           930415.25,
           370927.75,
           301123.25,
           437315,
           260841.75,
           511437,
           365524.5,
           1526485.75,
           443373.25,
           350943,
           494110.5,
           361714.25,
           981064.25,
           409862.75,
           406117.5,
           354555.25,
           551561.25,
           417422,
           419930.5,
           466943,
           421679.25,
           398010.25,
           262000.25,
           434699.5,
           381415.5,
           457588.75,
           478054.25,
           796162.5,
           268966.5,
           268341.25,
           568936.75,
           397781.75,
           309412,
           207799,
           851680.5,
           1195992.5,
           327597.75,
           387055.5,
           369373.5,
           369958,
           532497,
           582977.75,
           428838.5,
           395023,
           449150.5,
           352082.5,
           319783.75,
           697085.5,
           287685.75,
           451685.25,
           433269.25,
           322774.75,
           287233.5,
           440485.75,
           338344.75,
           843234.25,
           650307.75,
           336617.75,
           613216.5,
           759392.5,
           1094027.75,
           806471.75,
           540192.5,
           385830.25,
           256880.25,
           453229,
           443974.75,
           344988.25,
           393490.5,
           285013.5,
           409456,
           262308.75,
           253182.25,
           677370.25,
           468181.75,
           407812,
           559573.25,
           460568.5,
           369993,
           703063.25,
           411455.75,
           298315.75,
           422257.5,
           441202.75,
           443413.5,
           622191.75,
           454652.5,
           405431.25,
           648859.25,
           373375.25,
           765746.5,
           392578.25,
           360999.25,
           345660.25,
           508937.25,
           1093640,
           376286.75,
           552082,
           431090.5,
           329835.75,
           447478.5,
           455020.5,
           999107,
           376014.5,
           550432.25,
           353926.5,
           239414,
           666306,
           375864,
           255264.75,
           534465.75,
           618316.75,
           352133,
           376863,
           284647.5,
           343254.25,
           349320.25,
           308007.75,
           351802,
           348319.25,
           469045.5,
           466134.75,
           464278,
           298505.75,
           445382.75,
           369918.5,
           565976.5,
           809745.75,
           813220.25,
           305899.5,
           430861.25
          ],
          "sizemode": "area",
          "sizeref": 6784.381111111111
         },
         "mode": "markers",
         "name": "",
         "showlegend": false,
         "subplot": "mapbox",
         "type": "scattermapbox"
        }
       ],
       "layout": {
        "coloraxis": {
         "colorbar": {
          "title": {
           "text": "average_house_value"
          }
         },
         "colorscale": [
          [
           0,
           "#000000"
          ],
          [
           0.0625,
           "#001f4d"
          ],
          [
           0.125,
           "#003786"
          ],
          [
           0.1875,
           "#0e58a8"
          ],
          [
           0.25,
           "#217eb8"
          ],
          [
           0.3125,
           "#30a4ca"
          ],
          [
           0.375,
           "#54c8df"
          ],
          [
           0.4375,
           "#9be4ef"
          ],
          [
           0.5,
           "#e1e9d1"
          ],
          [
           0.5625,
           "#f3d573"
          ],
          [
           0.625,
           "#e7b000"
          ],
          [
           0.6875,
           "#da8200"
          ],
          [
           0.75,
           "#c65400"
          ],
          [
           0.8125,
           "#ac2301"
          ],
          [
           0.875,
           "#820000"
          ],
          [
           0.9375,
           "#4c0000"
          ],
          [
           1,
           "#000000"
          ]
         ]
        },
        "height": 600,
        "legend": {
         "itemsizing": "constant",
         "tracegroupgap": 0
        },
        "mapbox": {
         "center": {
          "lat": 43.708840577642846,
          "lon": -79.4001855035
         },
         "domain": {
          "x": [
           0,
           1
          ],
          "y": [
           0,
           1
          ]
         },
         "zoom": 9
        },
        "template": {
         "data": {
          "bar": [
           {
            "error_x": {
             "color": "#2a3f5f"
            },
            "error_y": {
             "color": "#2a3f5f"
            },
            "marker": {
             "line": {
              "color": "#E5ECF6",
              "width": 0.5
             },
             "pattern": {
              "fillmode": "overlay",
              "size": 10,
              "solidity": 0.2
             }
            },
            "type": "bar"
           }
          ],
          "barpolar": [
           {
            "marker": {
             "line": {
              "color": "#E5ECF6",
              "width": 0.5
             },
             "pattern": {
              "fillmode": "overlay",
              "size": 10,
              "solidity": 0.2
             }
            },
            "type": "barpolar"
           }
          ],
          "carpet": [
           {
            "aaxis": {
             "endlinecolor": "#2a3f5f",
             "gridcolor": "white",
             "linecolor": "white",
             "minorgridcolor": "white",
             "startlinecolor": "#2a3f5f"
            },
            "baxis": {
             "endlinecolor": "#2a3f5f",
             "gridcolor": "white",
             "linecolor": "white",
             "minorgridcolor": "white",
             "startlinecolor": "#2a3f5f"
            },
            "type": "carpet"
           }
          ],
          "choropleth": [
           {
            "colorbar": {
             "outlinewidth": 0,
             "ticks": ""
            },
            "type": "choropleth"
           }
          ],
          "contour": [
           {
            "colorbar": {
             "outlinewidth": 0,
             "ticks": ""
            },
            "colorscale": [
             [
              0,
              "#0d0887"
             ],
             [
              0.1111111111111111,
              "#46039f"
             ],
             [
              0.2222222222222222,
              "#7201a8"
             ],
             [
              0.3333333333333333,
              "#9c179e"
             ],
             [
              0.4444444444444444,
              "#bd3786"
             ],
             [
              0.5555555555555556,
              "#d8576b"
             ],
             [
              0.6666666666666666,
              "#ed7953"
             ],
             [
              0.7777777777777778,
              "#fb9f3a"
             ],
             [
              0.8888888888888888,
              "#fdca26"
             ],
             [
              1,
              "#f0f921"
             ]
            ],
            "type": "contour"
           }
          ],
          "contourcarpet": [
           {
            "colorbar": {
             "outlinewidth": 0,
             "ticks": ""
            },
            "type": "contourcarpet"
           }
          ],
          "heatmap": [
           {
            "colorbar": {
             "outlinewidth": 0,
             "ticks": ""
            },
            "colorscale": [
             [
              0,
              "#0d0887"
             ],
             [
              0.1111111111111111,
              "#46039f"
             ],
             [
              0.2222222222222222,
              "#7201a8"
             ],
             [
              0.3333333333333333,
              "#9c179e"
             ],
             [
              0.4444444444444444,
              "#bd3786"
             ],
             [
              0.5555555555555556,
              "#d8576b"
             ],
             [
              0.6666666666666666,
              "#ed7953"
             ],
             [
              0.7777777777777778,
              "#fb9f3a"
             ],
             [
              0.8888888888888888,
              "#fdca26"
             ],
             [
              1,
              "#f0f921"
             ]
            ],
            "type": "heatmap"
           }
          ],
          "heatmapgl": [
           {
            "colorbar": {
             "outlinewidth": 0,
             "ticks": ""
            },
            "colorscale": [
             [
              0,
              "#0d0887"
             ],
             [
              0.1111111111111111,
              "#46039f"
             ],
             [
              0.2222222222222222,
              "#7201a8"
             ],
             [
              0.3333333333333333,
              "#9c179e"
             ],
             [
              0.4444444444444444,
              "#bd3786"
             ],
             [
              0.5555555555555556,
              "#d8576b"
             ],
             [
              0.6666666666666666,
              "#ed7953"
             ],
             [
              0.7777777777777778,
              "#fb9f3a"
             ],
             [
              0.8888888888888888,
              "#fdca26"
             ],
             [
              1,
              "#f0f921"
             ]
            ],
            "type": "heatmapgl"
           }
          ],
          "histogram": [
           {
            "marker": {
             "pattern": {
              "fillmode": "overlay",
              "size": 10,
              "solidity": 0.2
             }
            },
            "type": "histogram"
           }
          ],
          "histogram2d": [
           {
            "colorbar": {
             "outlinewidth": 0,
             "ticks": ""
            },
            "colorscale": [
             [
              0,
              "#0d0887"
             ],
             [
              0.1111111111111111,
              "#46039f"
             ],
             [
              0.2222222222222222,
              "#7201a8"
             ],
             [
              0.3333333333333333,
              "#9c179e"
             ],
             [
              0.4444444444444444,
              "#bd3786"
             ],
             [
              0.5555555555555556,
              "#d8576b"
             ],
             [
              0.6666666666666666,
              "#ed7953"
             ],
             [
              0.7777777777777778,
              "#fb9f3a"
             ],
             [
              0.8888888888888888,
              "#fdca26"
             ],
             [
              1,
              "#f0f921"
             ]
            ],
            "type": "histogram2d"
           }
          ],
          "histogram2dcontour": [
           {
            "colorbar": {
             "outlinewidth": 0,
             "ticks": ""
            },
            "colorscale": [
             [
              0,
              "#0d0887"
             ],
             [
              0.1111111111111111,
              "#46039f"
             ],
             [
              0.2222222222222222,
              "#7201a8"
             ],
             [
              0.3333333333333333,
              "#9c179e"
             ],
             [
              0.4444444444444444,
              "#bd3786"
             ],
             [
              0.5555555555555556,
              "#d8576b"
             ],
             [
              0.6666666666666666,
              "#ed7953"
             ],
             [
              0.7777777777777778,
              "#fb9f3a"
             ],
             [
              0.8888888888888888,
              "#fdca26"
             ],
             [
              1,
              "#f0f921"
             ]
            ],
            "type": "histogram2dcontour"
           }
          ],
          "mesh3d": [
           {
            "colorbar": {
             "outlinewidth": 0,
             "ticks": ""
            },
            "type": "mesh3d"
           }
          ],
          "parcoords": [
           {
            "line": {
             "colorbar": {
              "outlinewidth": 0,
              "ticks": ""
             }
            },
            "type": "parcoords"
           }
          ],
          "pie": [
           {
            "automargin": true,
            "type": "pie"
           }
          ],
          "scatter": [
           {
            "marker": {
             "colorbar": {
              "outlinewidth": 0,
              "ticks": ""
             }
            },
            "type": "scatter"
           }
          ],
          "scatter3d": [
           {
            "line": {
             "colorbar": {
              "outlinewidth": 0,
              "ticks": ""
             }
            },
            "marker": {
             "colorbar": {
              "outlinewidth": 0,
              "ticks": ""
             }
            },
            "type": "scatter3d"
           }
          ],
          "scattercarpet": [
           {
            "marker": {
             "colorbar": {
              "outlinewidth": 0,
              "ticks": ""
             }
            },
            "type": "scattercarpet"
           }
          ],
          "scattergeo": [
           {
            "marker": {
             "colorbar": {
              "outlinewidth": 0,
              "ticks": ""
             }
            },
            "type": "scattergeo"
           }
          ],
          "scattergl": [
           {
            "marker": {
             "colorbar": {
              "outlinewidth": 0,
              "ticks": ""
             }
            },
            "type": "scattergl"
           }
          ],
          "scattermapbox": [
           {
            "marker": {
             "colorbar": {
              "outlinewidth": 0,
              "ticks": ""
             }
            },
            "type": "scattermapbox"
           }
          ],
          "scatterpolar": [
           {
            "marker": {
             "colorbar": {
              "outlinewidth": 0,
              "ticks": ""
             }
            },
            "type": "scatterpolar"
           }
          ],
          "scatterpolargl": [
           {
            "marker": {
             "colorbar": {
              "outlinewidth": 0,
              "ticks": ""
             }
            },
            "type": "scatterpolargl"
           }
          ],
          "scatterternary": [
           {
            "marker": {
             "colorbar": {
              "outlinewidth": 0,
              "ticks": ""
             }
            },
            "type": "scatterternary"
           }
          ],
          "surface": [
           {
            "colorbar": {
             "outlinewidth": 0,
             "ticks": ""
            },
            "colorscale": [
             [
              0,
              "#0d0887"
             ],
             [
              0.1111111111111111,
              "#46039f"
             ],
             [
              0.2222222222222222,
              "#7201a8"
             ],
             [
              0.3333333333333333,
              "#9c179e"
             ],
             [
              0.4444444444444444,
              "#bd3786"
             ],
             [
              0.5555555555555556,
              "#d8576b"
             ],
             [
              0.6666666666666666,
              "#ed7953"
             ],
             [
              0.7777777777777778,
              "#fb9f3a"
             ],
             [
              0.8888888888888888,
              "#fdca26"
             ],
             [
              1,
              "#f0f921"
             ]
            ],
            "type": "surface"
           }
          ],
          "table": [
           {
            "cells": {
             "fill": {
              "color": "#EBF0F8"
             },
             "line": {
              "color": "white"
             }
            },
            "header": {
             "fill": {
              "color": "#C8D4E3"
             },
             "line": {
              "color": "white"
             }
            },
            "type": "table"
           }
          ]
         },
         "layout": {
          "annotationdefaults": {
           "arrowcolor": "#2a3f5f",
           "arrowhead": 0,
           "arrowwidth": 1
          },
          "autotypenumbers": "strict",
          "coloraxis": {
           "colorbar": {
            "outlinewidth": 0,
            "ticks": ""
           }
          },
          "colorscale": {
           "diverging": [
            [
             0,
             "#8e0152"
            ],
            [
             0.1,
             "#c51b7d"
            ],
            [
             0.2,
             "#de77ae"
            ],
            [
             0.3,
             "#f1b6da"
            ],
            [
             0.4,
             "#fde0ef"
            ],
            [
             0.5,
             "#f7f7f7"
            ],
            [
             0.6,
             "#e6f5d0"
            ],
            [
             0.7,
             "#b8e186"
            ],
            [
             0.8,
             "#7fbc41"
            ],
            [
             0.9,
             "#4d9221"
            ],
            [
             1,
             "#276419"
            ]
           ],
           "sequential": [
            [
             0,
             "#0d0887"
            ],
            [
             0.1111111111111111,
             "#46039f"
            ],
            [
             0.2222222222222222,
             "#7201a8"
            ],
            [
             0.3333333333333333,
             "#9c179e"
            ],
            [
             0.4444444444444444,
             "#bd3786"
            ],
            [
             0.5555555555555556,
             "#d8576b"
            ],
            [
             0.6666666666666666,
             "#ed7953"
            ],
            [
             0.7777777777777778,
             "#fb9f3a"
            ],
            [
             0.8888888888888888,
             "#fdca26"
            ],
            [
             1,
             "#f0f921"
            ]
           ],
           "sequentialminus": [
            [
             0,
             "#0d0887"
            ],
            [
             0.1111111111111111,
             "#46039f"
            ],
            [
             0.2222222222222222,
             "#7201a8"
            ],
            [
             0.3333333333333333,
             "#9c179e"
            ],
            [
             0.4444444444444444,
             "#bd3786"
            ],
            [
             0.5555555555555556,
             "#d8576b"
            ],
            [
             0.6666666666666666,
             "#ed7953"
            ],
            [
             0.7777777777777778,
             "#fb9f3a"
            ],
            [
             0.8888888888888888,
             "#fdca26"
            ],
            [
             1,
             "#f0f921"
            ]
           ]
          },
          "colorway": [
           "#636efa",
           "#EF553B",
           "#00cc96",
           "#ab63fa",
           "#FFA15A",
           "#19d3f3",
           "#FF6692",
           "#B6E880",
           "#FF97FF",
           "#FECB52"
          ],
          "font": {
           "color": "#2a3f5f"
          },
          "geo": {
           "bgcolor": "white",
           "lakecolor": "white",
           "landcolor": "#E5ECF6",
           "showlakes": true,
           "showland": true,
           "subunitcolor": "white"
          },
          "hoverlabel": {
           "align": "left"
          },
          "hovermode": "closest",
          "mapbox": {
           "style": "light"
          },
          "paper_bgcolor": "white",
          "plot_bgcolor": "#E5ECF6",
          "polar": {
           "angularaxis": {
            "gridcolor": "white",
            "linecolor": "white",
            "ticks": ""
           },
           "bgcolor": "#E5ECF6",
           "radialaxis": {
            "gridcolor": "white",
            "linecolor": "white",
            "ticks": ""
           }
          },
          "scene": {
           "xaxis": {
            "backgroundcolor": "#E5ECF6",
            "gridcolor": "white",
            "gridwidth": 2,
            "linecolor": "white",
            "showbackground": true,
            "ticks": "",
            "zerolinecolor": "white"
           },
           "yaxis": {
            "backgroundcolor": "#E5ECF6",
            "gridcolor": "white",
            "gridwidth": 2,
            "linecolor": "white",
            "showbackground": true,
            "ticks": "",
            "zerolinecolor": "white"
           },
           "zaxis": {
            "backgroundcolor": "#E5ECF6",
            "gridcolor": "white",
            "gridwidth": 2,
            "linecolor": "white",
            "showbackground": true,
            "ticks": "",
            "zerolinecolor": "white"
           }
          },
          "shapedefaults": {
           "line": {
            "color": "#2a3f5f"
           }
          },
          "ternary": {
           "aaxis": {
            "gridcolor": "white",
            "linecolor": "white",
            "ticks": ""
           },
           "baxis": {
            "gridcolor": "white",
            "linecolor": "white",
            "ticks": ""
           },
           "bgcolor": "#E5ECF6",
           "caxis": {
            "gridcolor": "white",
            "linecolor": "white",
            "ticks": ""
           }
          },
          "title": {
           "x": 0.05
          },
          "xaxis": {
           "automargin": true,
           "gridcolor": "white",
           "linecolor": "white",
           "ticks": "",
           "title": {
            "standoff": 15
           },
           "zerolinecolor": "white",
           "zerolinewidth": 2
          },
          "yaxis": {
           "automargin": true,
           "gridcolor": "white",
           "linecolor": "white",
           "ticks": "",
           "title": {
            "standoff": 15
           },
           "zerolinecolor": "white",
           "zerolinewidth": 2
          }
         }
        },
        "title": {
         "text": "Averange House Values in Toronto"
        }
       }
      }
     },
     "metadata": {},
     "output_type": "display_data"
    }
   ],
   "source": [
    "# Create a scatter mapbox to analyze neighbourhood info\n",
    "px.set_mapbox_access_token(map_box_api)\n",
    "map = px.scatter_mapbox(\n",
    "    df_all_neighbourhoods,\n",
    "    lat=\"lat\",\n",
    "    lon=\"lon\",\n",
    "    size=\"average_house_value\",\n",
    "    color=\"average_house_value\",\n",
    "    color_continuous_scale=px.colors.cyclical.IceFire,\n",
    "    size_max=15,\n",
    "    zoom=9,\n",
    "    hover_name=\"neighbourhood\",\n",
    "    hover_data = [\n",
    "        \"shelter_costs_owned\",\n",
    "        \"shelter_costs_rented\",\n",
    "        \"single_detached_house\",\n",
    "        \"apartment_five_storeys_plus\",\n",
    "        \"movable_dwelling\",\n",
    "        \"semi_detached_house\",\n",
    "        \"row_house\",\n",
    "        \"duplex\",\n",
    "        \"apartment_five_storeys_less\",\n",
    "        \"other_house\"\n",
    "    ],\n",
    "    title=\"Averange House Values in Toronto\",\n",
    "    height=600\n",
    ")\n",
    "\n",
    "map.show()"
   ]
  },
  {
   "cell_type": "markdown",
   "metadata": {},
   "source": [
    "- - -"
   ]
  }
 ],
 "metadata": {
  "file_extension": ".py",
  "interpreter": {
   "hash": "99f7019fee9c5e0b0a87cb27cd8be2c739e84181f2b58e5313d8f95479514288"
  },
  "kernelspec": {
   "display_name": "Python [conda env:pyvizenv25] *",
   "language": "python",
   "name": "python3"
  },
  "language_info": {
   "codemirror_mode": {
    "name": "ipython",
    "version": 3
   },
   "file_extension": ".py",
   "mimetype": "text/x-python",
   "name": "python",
   "nbconvert_exporter": "python",
   "pygments_lexer": "ipython3",
   "version": "3.7.11"
  },
  "mimetype": "text/x-python",
  "name": "python",
  "npconvert_exporter": "python",
  "pygments_lexer": "ipython3",
  "version": 3
 },
 "nbformat": 4,
 "nbformat_minor": 4
}
